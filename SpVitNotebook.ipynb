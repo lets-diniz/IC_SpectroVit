{
 "cells": [
  {
   "cell_type": "markdown",
   "metadata": {},
   "source": [
    "# Notebook para treinar SpectroVit"
   ]
  },
  {
   "cell_type": "code",
   "execution_count": 1,
   "metadata": {},
   "outputs": [],
   "source": [
    "import torch\n",
    "from torch.utils.data import Dataset, DataLoader\n",
    "from tqdm.notebook import tqdm\n",
    "import random\n",
    "random.seed(5)\n",
    "import matplotlib.pyplot as plt\n",
    "import numpy as np\n",
    "from scipy import signal,stats\n",
    "import os"
   ]
  },
  {
   "cell_type": "code",
   "execution_count": 2,
   "metadata": {},
   "outputs": [
    {
     "name": "stdout",
     "output_type": "stream",
     "text": [
      "Using cuda:0\n"
     ]
    }
   ],
   "source": [
    "from datasets import DatasetSpgramSyntheticData\n",
    "from models import SpectroViT\n",
    "from losses import RangeMAELoss\n",
    "from lr_scheduler import CustomLRScheduler\n",
    "from save_models import SaveBestModel, SaveCurrentModel\n",
    "from main_functions_adapted import valid_on_the_fly, run_train_epoch, run_validation\n",
    "from main import calculate_parameters\n",
    "from utils import clean_directory"
   ]
  },
  {
   "cell_type": "code",
   "execution_count": 3,
   "metadata": {},
   "outputs": [],
   "source": [
    "device = torch.device('cuda' if torch.cuda.is_available() else 'cpu')"
   ]
  },
  {
   "cell_type": "markdown",
   "metadata": {},
   "source": [
    "### Dados"
   ]
  },
  {
   "cell_type": "code",
   "execution_count": 4,
   "metadata": {},
   "outputs": [],
   "source": [
    "dataset_train = DatasetSpgramSyntheticData(path_data='../sample_data.h5',\n",
    "                           start=0, end=84,\n",
    "                           augment=True)\n",
    "dataset_validation = DatasetSpgramSyntheticData(path_data='../sample_data.h5',\n",
    "                           start=84, end=108,\n",
    "                           augment=False)"
   ]
  },
  {
   "cell_type": "markdown",
   "metadata": {},
   "source": [
    "### Modelo"
   ]
  },
  {
   "cell_type": "code",
   "execution_count": 5,
   "metadata": {},
   "outputs": [],
   "source": [
    "spectrovit = SpectroViT().to(device)"
   ]
  },
  {
   "cell_type": "markdown",
   "metadata": {},
   "source": [
    "### Loss e Optimizer"
   ]
  },
  {
   "cell_type": "code",
   "execution_count": 6,
   "metadata": {},
   "outputs": [],
   "source": [
    "loss = RangeMAELoss()\n",
    "optimizer = torch.optim.Adam(spectrovit.parameters(), lr=1e-4)\n",
    "lr_scheduler = CustomLRScheduler(optimizer,'cosineannealinglr',T_max = 10, eta_min = 1e-6)"
   ]
  },
  {
   "cell_type": "markdown",
   "metadata": {},
   "source": [
    "### Loop de treino e validação"
   ]
  },
  {
   "cell_type": "code",
   "execution_count": 7,
   "metadata": {},
   "outputs": [],
   "source": [
    "n_epochs = 30\n",
    "batch_size_train = 100\n",
    "batch_size_validation = 6\n",
    "step_for_safe_saving = 5\n",
    "step_for_saving_plots = 3\n",
    "epoch_to_switch_to_cosine = 20\n",
    "save_dir_path = '../model_hop_10_mfft_256_zp/'\n",
    "filename = 'model_hop_10_mfft_256_zp'\n",
    "name_model = 'model_hop_10_mfft_256_zp'\n",
    "save_best_model = SaveBestModel(dir_model=save_dir_path)\n",
    "save_current_model = SaveCurrentModel(dir_model=save_dir_path)"
   ]
  },
  {
   "cell_type": "code",
   "execution_count": 8,
   "metadata": {},
   "outputs": [],
   "source": [
    "dataloader_train = DataLoader(dataset_train, batch_size=batch_size_train, shuffle=True)\n",
    "dataloader_validation = DataLoader(dataset_validation, batch_size=batch_size_validation, shuffle=True)"
   ]
  },
  {
   "cell_type": "code",
   "execution_count": 14,
   "metadata": {},
   "outputs": [
    {
     "name": "stdout",
     "output_type": "stream",
     "text": [
      "Number of parameters: 90473472\n"
     ]
    },
    {
     "name": "stderr",
     "output_type": "stream",
     "text": [
      "Train Loop: 100%|██████████| 168/168 [10:19<00:00,  3.68s/it, desc=[epoch: 1], iteration: 167/168, loss: 0.005826089858254861] \n",
      "Validation Loop: 100%|██████████| 4/4 [00:00<00:00,  4.37it/s, desc=[Epoch 1] Loss: 0.001976113533601165 | MSE:0.0002497 | SNR:53.0256158 | FWHM:0.0764546 | Shape Score:0.9993597] \n"
     ]
    },
    {
     "name": "stdout",
     "output_type": "stream",
     "text": [
      "Best validation score: 0.20032790420198343\n",
      "Saving current model with score: 0.20032790420198343\n",
      "Number of parameters: 90473472\n"
     ]
    },
    {
     "name": "stderr",
     "output_type": "stream",
     "text": [
      "Train Loop: 100%|██████████| 168/168 [10:14<00:00,  3.66s/it, desc=[epoch: 2], iteration: 167/168, loss: 0.0022913603690020473]\n",
      "Validation Loop: 100%|██████████| 4/4 [00:00<00:00,  4.55it/s, desc=[Epoch 2] Loss: 0.002223386662080884 | MSE:0.0002491 | SNR:67.9903933 | FWHM:0.0764546 | Shape Score:0.9995342] \n"
     ]
    },
    {
     "name": "stdout",
     "output_type": "stream",
     "text": [
      "Best validation score: 0.20029250845491073\n",
      "Number of parameters: 90473472\n"
     ]
    },
    {
     "name": "stderr",
     "output_type": "stream",
     "text": [
      "Train Loop: 100%|██████████| 168/168 [09:51<00:00,  3.52s/it, desc=[epoch: 3], iteration: 167/168, loss: 0.0019718620287243367]\n",
      "Validation Loop: 100%|██████████| 4/4 [00:00<00:00,  4.61it/s, desc=[Epoch 3] Loss: 0.0020960327237844467 | MSE:0.0002258 | SNR:84.1284273 | FWHM:0.0764546 | Shape Score:0.9995630]\n"
     ]
    },
    {
     "name": "stdout",
     "output_type": "stream",
     "text": [
      "Best validation score: 0.200268042027839\n",
      "Number of parameters: 90473472\n"
     ]
    },
    {
     "name": "stderr",
     "output_type": "stream",
     "text": [
      "Train Loop: 100%|██████████| 168/168 [09:51<00:00,  3.52s/it, desc=[epoch: 4], iteration: 167/168, loss: 0.001865463082573288] \n",
      "Validation Loop: 100%|██████████| 4/4 [00:00<00:00,  4.55it/s, desc=[Epoch 4] Loss: 0.001526281121186912 | MSE:0.0002334 | SNR:94.4634118 | FWHM:0.0764546 | Shape Score:0.9996500] \n"
     ]
    },
    {
     "name": "stdout",
     "output_type": "stream",
     "text": [
      "Best validation score: 0.200256711329502\n",
      "Number of parameters: 90473472\n"
     ]
    },
    {
     "name": "stderr",
     "output_type": "stream",
     "text": [
      "Train Loop: 100%|██████████| 168/168 [09:48<00:00,  3.51s/it, desc=[epoch: 5], iteration: 167/168, loss: 0.001813507622933858] \n",
      "Validation Loop: 100%|██████████| 4/4 [00:00<00:00,  4.58it/s, desc=[Epoch 5] Loss: 0.0016905679367482662 | MSE:0.0001827 | SNR:85.3246792 | FWHM:0.0764546 | Shape Score:0.9996334]\n"
     ]
    },
    {
     "name": "stdout",
     "output_type": "stream",
     "text": [
      "Best validation score: 0.20021951294825288\n",
      "Number of parameters: 90473472\n"
     ]
    },
    {
     "name": "stderr",
     "output_type": "stream",
     "text": [
      "Train Loop: 100%|██████████| 168/168 [09:50<00:00,  3.51s/it, desc=[epoch: 6], iteration: 167/168, loss: 0.0016527930905188744]\n",
      "Validation Loop: 100%|██████████| 4/4 [00:00<00:00,  4.57it/s, desc=[Epoch 6] Loss: 0.0015000698622316122 | MSE:0.0001803 | SNR:93.5357181 | FWHM:0.0764546 | Shape Score:0.9996500]\n"
     ]
    },
    {
     "name": "stdout",
     "output_type": "stream",
     "text": [
      "Best validation score: 0.20021425317142055\n",
      "Saving current model with score: 0.20021425317142055\n",
      "Number of parameters: 90473472\n"
     ]
    },
    {
     "name": "stderr",
     "output_type": "stream",
     "text": [
      "Train Loop: 100%|██████████| 168/168 [09:52<00:00,  3.52s/it, desc=[epoch: 7], iteration: 167/168, loss: 0.0015306184193052883]\n",
      "Validation Loop: 100%|██████████| 4/4 [00:00<00:00,  4.51it/s, desc=[Epoch 7] Loss: 0.0015896391123533249 | MSE:0.0001219 | SNR:89.6081746 | FWHM:0.0764546 | Shape Score:0.9996119]\n"
     ]
    },
    {
     "name": "stdout",
     "output_type": "stream",
     "text": [
      "Best validation score: 0.20017515464416002\n",
      "Number of parameters: 90473472\n"
     ]
    },
    {
     "name": "stderr",
     "output_type": "stream",
     "text": [
      "Train Loop: 100%|██████████| 168/168 [09:52<00:00,  3.53s/it, desc=[epoch: 8], iteration: 167/168, loss: 0.0014432348460624261]\n",
      "Validation Loop: 100%|██████████| 4/4 [00:00<00:00,  4.57it/s, desc=[Epoch 8] Loss: 0.0016371747478842735 | MSE:0.0001726 | SNR:89.3625167 | FWHM:0.0764546 | Shape Score:0.9996734]\n"
     ]
    },
    {
     "name": "stdout",
     "output_type": "stream",
     "text": [
      "Number of parameters: 90473472\n"
     ]
    },
    {
     "name": "stderr",
     "output_type": "stream",
     "text": [
      "Train Loop: 100%|██████████| 168/168 [10:05<00:00,  3.61s/it, desc=[epoch: 9], iteration: 167/168, loss: 0.0013705024009271125]\n",
      "Validation Loop: 100%|██████████| 4/4 [00:00<00:00,  4.52it/s, desc=[Epoch 9] Loss: 0.0015360750257968903 | MSE:0.0001711 | SNR:100.4066740 | FWHM:0.0764546 | Shape Score:0.9996715]\n"
     ]
    },
    {
     "name": "stdout",
     "output_type": "stream",
     "text": [
      "Number of parameters: 90473472\n"
     ]
    },
    {
     "name": "stderr",
     "output_type": "stream",
     "text": [
      "Train Loop: 100%|██████████| 168/168 [09:52<00:00,  3.53s/it, desc=[epoch: 10], iteration: 167/168, loss: 0.001323714403302542] \n",
      "Validation Loop: 100%|██████████| 4/4 [00:00<00:00,  4.44it/s, desc=[Epoch 10] Loss: 0.0018019663402810693 | MSE:0.0001448 | SNR:102.5727603 | FWHM:0.0764546 | Shape Score:0.9996777]\n"
     ]
    },
    {
     "name": "stdout",
     "output_type": "stream",
     "text": [
      "Number of parameters: 90473472\n"
     ]
    },
    {
     "name": "stderr",
     "output_type": "stream",
     "text": [
      "Train Loop: 100%|██████████| 168/168 [09:53<00:00,  3.53s/it, desc=[epoch: 11], iteration: 167/168, loss: 0.0012253537022929994]\n",
      "Validation Loop: 100%|██████████| 4/4 [00:00<00:00,  4.57it/s, desc=[Epoch 11] Loss: 0.001501705963164568 | MSE:0.0001714 | SNR:101.8063415 | FWHM:0.0764546 | Shape Score:0.9996044] \n"
     ]
    },
    {
     "name": "stdout",
     "output_type": "stream",
     "text": [
      "Saving current model with score: 0.20021631815627833\n",
      "Number of parameters: 90473472\n"
     ]
    },
    {
     "name": "stderr",
     "output_type": "stream",
     "text": [
      "Train Loop: 100%|██████████| 168/168 [09:54<00:00,  3.54s/it, desc=[epoch: 12], iteration: 167/168, loss: 0.001125663096900098] \n",
      "Validation Loop: 100%|██████████| 4/4 [00:00<00:00,  4.57it/s, desc=[Epoch 12] Loss: 0.001673137187026441 | MSE:0.0001887 | SNR:101.1495907 | FWHM:0.0764546 | Shape Score:0.9996643] \n"
     ]
    },
    {
     "name": "stdout",
     "output_type": "stream",
     "text": [
      "Number of parameters: 90473472\n"
     ]
    },
    {
     "name": "stderr",
     "output_type": "stream",
     "text": [
      "Train Loop: 100%|██████████| 168/168 [09:53<00:00,  3.53s/it, desc=[epoch: 13], iteration: 167/168, loss: 0.0010867759999763664]\n",
      "Validation Loop: 100%|██████████| 4/4 [00:00<00:00,  4.61it/s, desc=[Epoch 13] Loss: 0.0015657416079193354 | MSE:0.0001525 | SNR:106.8245675 | FWHM:0.0764546 | Shape Score:0.9996505]\n"
     ]
    },
    {
     "name": "stdout",
     "output_type": "stream",
     "text": [
      "Number of parameters: 90473472\n"
     ]
    },
    {
     "name": "stderr",
     "output_type": "stream",
     "text": [
      "Train Loop: 100%|██████████| 168/168 [09:53<00:00,  3.53s/it, desc=[epoch: 14], iteration: 167/168, loss: 0.0010947880516704615]\n",
      "Validation Loop: 100%|██████████| 4/4 [00:00<00:00,  4.51it/s, desc=[Epoch 14] Loss: 0.001512196147814393 | MSE:0.0001549 | SNR:118.3630127 | FWHM:0.0764546 | Shape Score:0.9995715] \n"
     ]
    },
    {
     "name": "stdout",
     "output_type": "stream",
     "text": [
      "Number of parameters: 90473472\n"
     ]
    },
    {
     "name": "stderr",
     "output_type": "stream",
     "text": [
      "Train Loop: 100%|██████████| 168/168 [09:54<00:00,  3.54s/it, desc=[epoch: 15], iteration: 167/168, loss: 0.0009538485416366408]\n",
      "Validation Loop: 100%|██████████| 4/4 [00:00<00:00,  4.49it/s, desc=[Epoch 15] Loss: 0.00172244303394109 | MSE:0.0001512 | SNR:107.0996055 | FWHM:0.0767732 | Shape Score:0.9996667]  \n"
     ]
    },
    {
     "name": "stdout",
     "output_type": "stream",
     "text": [
      "Number of parameters: 90473472\n"
     ]
    },
    {
     "name": "stderr",
     "output_type": "stream",
     "text": [
      "Train Loop: 100%|██████████| 168/168 [09:53<00:00,  3.54s/it, desc=[epoch: 16], iteration: 167/168, loss: 0.0009759911720591065]\n",
      "Validation Loop: 100%|██████████| 4/4 [00:00<00:00,  4.58it/s, desc=[Epoch 16] Loss: 0.0016394301783293486 | MSE:0.0001759 | SNR:109.6433487 | FWHM:0.0764546 | Shape Score:0.9996310]\n"
     ]
    },
    {
     "name": "stdout",
     "output_type": "stream",
     "text": [
      "Saving current model with score: 0.20021453559841887\n",
      "Number of parameters: 90473472\n"
     ]
    },
    {
     "name": "stderr",
     "output_type": "stream",
     "text": [
      "Train Loop: 100%|██████████| 168/168 [09:51<00:00,  3.52s/it, desc=[epoch: 17], iteration: 167/168, loss: 0.0009584715610669393]\n",
      "Validation Loop: 100%|██████████| 4/4 [00:00<00:00,  4.58it/s, desc=[Epoch 17] Loss: 0.0016635386273264885 | MSE:0.0002045 | SNR:121.5058246 | FWHM:0.0764546 | Shape Score:0.9996753]\n"
     ]
    },
    {
     "name": "stdout",
     "output_type": "stream",
     "text": [
      "Number of parameters: 90473472\n"
     ]
    },
    {
     "name": "stderr",
     "output_type": "stream",
     "text": [
      "Train Loop: 100%|██████████| 168/168 [09:57<00:00,  3.56s/it, desc=[epoch: 18], iteration: 167/168, loss: 0.0009250808857142969]\n",
      "Validation Loop: 100%|██████████| 4/4 [00:00<00:00,  4.62it/s, desc=[Epoch 18] Loss: 0.0017467804718762636 | MSE:0.0001981 | SNR:112.4663277 | FWHM:0.0764546 | Shape Score:0.9997180]\n"
     ]
    },
    {
     "name": "stdout",
     "output_type": "stream",
     "text": [
      "Number of parameters: 90473472\n"
     ]
    },
    {
     "name": "stderr",
     "output_type": "stream",
     "text": [
      "Train Loop: 100%|██████████| 168/168 [09:52<00:00,  3.53s/it, desc=[epoch: 19], iteration: 167/168, loss: 0.0008691254240277756]\n",
      "Validation Loop: 100%|██████████| 4/4 [00:00<00:00,  4.59it/s, desc=[Epoch 19] Loss: 0.001573382061906159 | MSE:0.0001269 | SNR:138.0411184 | FWHM:0.0764546 | Shape Score:0.9996680] \n"
     ]
    },
    {
     "name": "stdout",
     "output_type": "stream",
     "text": [
      "Best validation score: 0.2001679307995597\n",
      "Number of parameters: 90473472\n"
     ]
    },
    {
     "name": "stderr",
     "output_type": "stream",
     "text": [
      "Train Loop: 100%|██████████| 168/168 [10:04<00:00,  3.60s/it, desc=[epoch: 20], iteration: 167/168, loss: 0.0008563438223929898]\n",
      "Validation Loop: 100%|██████████| 4/4 [00:00<00:00,  4.53it/s, desc=[Epoch 20] Loss: 0.0016471856506541371 | MSE:0.0001402 | SNR:128.8503716 | FWHM:0.0764546 | Shape Score:0.9996273]\n"
     ]
    },
    {
     "name": "stdout",
     "output_type": "stream",
     "text": [
      "Number of parameters: 90473472\n"
     ]
    },
    {
     "name": "stderr",
     "output_type": "stream",
     "text": [
      "Train Loop: 100%|██████████| 168/168 [09:52<00:00,  3.53s/it, desc=[epoch: 21], iteration: 167/168, loss: 0.0008566456457455864]\n",
      "Validation Loop: 100%|██████████| 4/4 [00:00<00:00,  4.52it/s, desc=[Epoch 21] Loss: 0.0020410260185599327 | MSE:0.0001798 | SNR:137.4175773 | FWHM:0.0761361 | Shape Score:0.9996563]\n"
     ]
    },
    {
     "name": "stdout",
     "output_type": "stream",
     "text": [
      "Saving current model with score: 0.20021262153674563\n",
      "Number of parameters: 90473472\n"
     ]
    },
    {
     "name": "stderr",
     "output_type": "stream",
     "text": [
      "Train Loop: 100%|██████████| 168/168 [09:51<00:00,  3.52s/it, desc=[epoch: 22], iteration: 167/168, loss: 0.0005102292289804955]\n",
      "Validation Loop: 100%|██████████| 4/4 [00:00<00:00,  4.49it/s, desc=[Epoch 22] Loss: 0.001718676183372736 | MSE:0.0001341 | SNR:224.4804793 | FWHM:0.0764546 | Shape Score:0.9996972] \n"
     ]
    },
    {
     "name": "stdout",
     "output_type": "stream",
     "text": [
      "Current learning rate: 9.779754323328192e-06\n",
      "Best validation score: 0.20016783758726664\n",
      "Number of parameters: 90473472\n"
     ]
    },
    {
     "name": "stderr",
     "output_type": "stream",
     "text": [
      "Train Loop: 100%|██████████| 168/168 [09:54<00:00,  3.54s/it, desc=[epoch: 23], iteration: 167/168, loss: 0.0004770486557390541] \n",
      "Validation Loop: 100%|██████████| 4/4 [00:00<00:00,  4.55it/s, desc=[Epoch 23] Loss: 0.0015971470857039094 | MSE:0.0001279 | SNR:235.2547449 | FWHM:0.0764546 | Shape Score:0.9997194]\n"
     ]
    },
    {
     "name": "stdout",
     "output_type": "stream",
     "text": [
      "Current learning rate: 9.140576474687263e-06\n",
      "Best validation score: 0.20015842617721596\n",
      "Number of parameters: 90473472\n"
     ]
    },
    {
     "name": "stderr",
     "output_type": "stream",
     "text": [
      "Train Loop: 100%|██████████| 168/168 [09:52<00:00,  3.52s/it, desc=[epoch: 24], iteration: 167/168, loss: 0.00046660350355003696]\n",
      "Validation Loop: 100%|██████████| 4/4 [00:00<00:00,  4.58it/s, desc=[Epoch 24] Loss: 0.0016284917946904898 | MSE:0.0001560 | SNR:228.5419261 | FWHM:0.0764546 | Shape Score:0.9996809]\n"
     ]
    },
    {
     "name": "stdout",
     "output_type": "stream",
     "text": [
      "Current learning rate: 8.145033635316128e-06\n",
      "Number of parameters: 90473472\n"
     ]
    },
    {
     "name": "stderr",
     "output_type": "stream",
     "text": [
      "Train Loop: 100%|██████████| 168/168 [09:54<00:00,  3.54s/it, desc=[epoch: 25], iteration: 167/168, loss: 0.0004515726892956688] \n",
      "Validation Loop: 100%|██████████| 4/4 [00:00<00:00,  4.45it/s, desc=[Epoch 25] Loss: 0.001555431867018342 | MSE:0.0001572 | SNR:235.5380983 | FWHM:0.0761361 | Shape Score:0.9997140] \n"
     ]
    },
    {
     "name": "stdout",
     "output_type": "stream",
     "text": [
      "Current learning rate: 6.890576474687263e-06\n",
      "Number of parameters: 90473472\n"
     ]
    },
    {
     "name": "stderr",
     "output_type": "stream",
     "text": [
      "Train Loop: 100%|██████████| 168/168 [09:58<00:00,  3.56s/it, desc=[epoch: 26], iteration: 167/168, loss: 0.0004421980125438755] \n",
      "Validation Loop: 100%|██████████| 4/4 [00:00<00:00,  4.39it/s, desc=[Epoch 26] Loss: 0.0015169454272836447 | MSE:0.0001306 | SNR:237.8468931 | FWHM:0.0761361 | Shape Score:0.9997408]\n"
     ]
    },
    {
     "name": "stdout",
     "output_type": "stream",
     "text": [
      "Current learning rate: 5.5e-06\n",
      "Best validation score: 0.20015633505961714\n",
      "Saving current model with score: 0.20015633505961714\n",
      "Number of parameters: 90473472\n"
     ]
    },
    {
     "name": "stderr",
     "output_type": "stream",
     "text": [
      "Train Loop: 100%|██████████| 168/168 [09:52<00:00,  3.53s/it, desc=[epoch: 27], iteration: 167/168, loss: 0.0004409617667122456] \n",
      "Validation Loop: 100%|██████████| 4/4 [00:00<00:00,  4.54it/s, desc=[Epoch 27] Loss: 0.0017284895293414593 | MSE:0.0001459 | SNR:243.2099027 | FWHM:0.0764546 | Shape Score:0.9996862]\n"
     ]
    },
    {
     "name": "stdout",
     "output_type": "stream",
     "text": [
      "Current learning rate: 4.109423525312737e-06\n",
      "Number of parameters: 90473472\n"
     ]
    },
    {
     "name": "stderr",
     "output_type": "stream",
     "text": [
      "Train Loop: 100%|██████████| 168/168 [09:53<00:00,  3.54s/it, desc=[epoch: 28], iteration: 167/168, loss: 0.00042114843814661506]\n",
      "Validation Loop: 100%|██████████| 4/4 [00:00<00:00,  4.54it/s, desc=[Epoch 28] Loss: 0.0016045018564909697 | MSE:0.0001569 | SNR:243.1679889 | FWHM:0.0767732 | Shape Score:0.9997385]\n"
     ]
    },
    {
     "name": "stdout",
     "output_type": "stream",
     "text": [
      "Current learning rate: 2.8549663646838717e-06\n",
      "Number of parameters: 90473472\n"
     ]
    },
    {
     "name": "stderr",
     "output_type": "stream",
     "text": [
      "Train Loop: 100%|██████████| 168/168 [09:52<00:00,  3.53s/it, desc=[epoch: 29], iteration: 167/168, loss: 0.0004152638485677363] \n",
      "Validation Loop: 100%|██████████| 4/4 [00:00<00:00,  4.54it/s, desc=[Epoch 29] Loss: 0.001762802479788661 | MSE:0.0001504 | SNR:235.4901030 | FWHM:0.0764546 | Shape Score:0.9997148] \n"
     ]
    },
    {
     "name": "stdout",
     "output_type": "stream",
     "text": [
      "Current learning rate: 1.859423525312737e-06\n",
      "Number of parameters: 90473472\n"
     ]
    },
    {
     "name": "stderr",
     "output_type": "stream",
     "text": [
      "Train Loop: 100%|██████████| 168/168 [09:55<00:00,  3.54s/it, desc=[epoch: 30], iteration: 167/168, loss: 0.0004138933613181247] \n",
      "Validation Loop: 100%|██████████| 4/4 [00:00<00:00,  4.52it/s, desc=[Epoch 30] Loss: 0.0017332143615931273 | MSE:0.0001707 | SNR:250.1720122 | FWHM:0.0764546 | Shape Score:0.9996456]"
     ]
    },
    {
     "name": "stdout",
     "output_type": "stream",
     "text": [
      "Current learning rate: 1.220245676671809e-06\n"
     ]
    },
    {
     "name": "stderr",
     "output_type": "stream",
     "text": [
      "\n"
     ]
    }
   ],
   "source": [
    "train_loss_list = []\n",
    "val_loss_list = []\n",
    "val_mean_mse_list = []\n",
    "val_mean_snr_list = []\n",
    "val_mean_linewidth_list = []\n",
    "val_mean_shape_score_list = []\n",
    "score_challenge_list = []\n",
    "\n",
    "os.makedirs(save_dir_path, exist_ok=True)\n",
    "clean_directory(save_dir_path)\n",
    "\n",
    "for epoch in range(n_epochs):\n",
    "\n",
    "  calculate_parameters(spectrovit)\n",
    "  train_loss = run_train_epoch(model=spectrovit, optimizer=optimizer, criterion=loss, loader=dataloader_train, epoch=epoch, device=device)\n",
    "  val_loss, loader_mean_mse, loader_mean_snr,loader_mean_linewidth,loader_mean_shape_score,score_challenge = run_validation(model=spectrovit, criterion=loss, loader=dataloader_validation, epoch=epoch, device=device)\n",
    "\n",
    "  train_loss_list.append(train_loss)\n",
    "  val_loss_list.append(val_loss)\n",
    "  val_mean_mse_list.append(loader_mean_mse)\n",
    "  val_mean_snr_list.append(loader_mean_snr)\n",
    "  val_mean_linewidth_list.append(loader_mean_linewidth)\n",
    "  val_mean_shape_score_list.append(loader_mean_shape_score)\n",
    "  score_challenge_list.append(score_challenge)\n",
    "\n",
    "  if epoch == epoch_to_switch_to_cosine:\n",
    "    for param_group in optimizer.param_groups:\n",
    "      param_group['lr'] = 1e-5\n",
    "  elif epoch > epoch_to_switch_to_cosine:\n",
    "    lr_scheduler.step()\n",
    "    print(\"Current learning rate:\",lr_scheduler.scheduler.get_last_lr()[0])\n",
    "\n",
    "  save_best_model(current_valid_score=score_challenge, model=spectrovit, name_model=name_model)\n",
    "  if epoch%step_for_saving_plots == 0:\n",
    "    valid_on_the_fly(model=spectrovit, epoch=epoch, val_dataset=dataset_validation, save_dir_path=save_dir_path, filename=filename, device=device)\n",
    "  if epoch%step_for_safe_saving == 0:\n",
    "    save_current_model(current_valid_score=score_challenge, model=spectrovit, name_model=name_model)\n"
   ]
  },
  {
   "cell_type": "code",
   "execution_count": 15,
   "metadata": {},
   "outputs": [],
   "source": [
    "np.savetxt(save_dir_path+'train_loss_list.txt', np.array(train_loss_list), delimiter='\\n')\n",
    "np.savetxt(save_dir_path+'val_loss_list.txt', np.array(val_loss_list), delimiter='\\n')\n",
    "np.savetxt(save_dir_path+'val_mse_list.txt', np.array(val_mean_mse_list), delimiter='\\n')\n",
    "np.savetxt(save_dir_path+'val_snr_list.txt', np.array(val_mean_snr_list), delimiter='\\n')\n",
    "np.savetxt(save_dir_path+'val_linewidth_list.txt', np.array(val_mean_linewidth_list), delimiter='\\n')\n",
    "np.savetxt(save_dir_path+'val_mean_shape_score_list.txt', np.array(val_mean_shape_score_list), delimiter='\\n')\n",
    "np.savetxt(save_dir_path+'score_challenge_list.txt', np.array(score_challenge_list), delimiter='\\n')"
   ]
  }
 ],
 "metadata": {
  "kernelspec": {
   "display_name": "spectvit",
   "language": "python",
   "name": "python3"
  },
  "language_info": {
   "codemirror_mode": {
    "name": "ipython",
    "version": 3
   },
   "file_extension": ".py",
   "mimetype": "text/x-python",
   "name": "python",
   "nbconvert_exporter": "python",
   "pygments_lexer": "ipython3",
   "version": "3.10.12"
  }
 },
 "nbformat": 4,
 "nbformat_minor": 2
}
