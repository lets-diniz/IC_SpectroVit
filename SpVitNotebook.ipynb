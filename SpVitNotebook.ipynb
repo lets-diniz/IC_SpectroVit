{
 "cells": [
  {
   "cell_type": "markdown",
   "metadata": {},
   "source": [
    "# Notebook para treinar SpectroVit"
   ]
  },
  {
   "cell_type": "code",
   "execution_count": 1,
   "metadata": {},
   "outputs": [],
   "source": [
    "import torch\n",
    "from torch.utils.data import Dataset, DataLoader\n",
    "from tqdm.notebook import tqdm\n",
    "import random\n",
    "random.seed(5)\n",
    "import matplotlib.pyplot as plt\n",
    "import numpy as np\n",
    "from scipy import signal,stats\n",
    "import os"
   ]
  },
  {
   "cell_type": "code",
   "execution_count": 2,
   "metadata": {},
   "outputs": [
    {
     "name": "stdout",
     "output_type": "stream",
     "text": [
      "Using cuda:0\n"
     ]
    }
   ],
   "source": [
    "from datasets import DatasetSpgramSyntheticData\n",
    "from models import SpectroViT\n",
    "from losses import RangeMAELoss\n",
    "from lr_scheduler import CustomLRScheduler\n",
    "from save_models import SaveBestModel, SaveCurrentModel\n",
    "from main_functions_adapted import valid_on_the_fly, run_train_epoch, run_validation\n",
    "from main import calculate_parameters\n",
    "from utils import clean_directory"
   ]
  },
  {
   "cell_type": "code",
   "execution_count": 3,
   "metadata": {},
   "outputs": [],
   "source": [
    "device = torch.device('cuda' if torch.cuda.is_available() else 'cpu')"
   ]
  },
  {
   "cell_type": "markdown",
   "metadata": {},
   "source": [
    "### Dados"
   ]
  },
  {
   "cell_type": "code",
   "execution_count": 4,
   "metadata": {},
   "outputs": [],
   "source": [
    "hop_size = 16\n",
    "window_size = 256\n",
    "window = signal.windows.hann(256,sym = True)"
   ]
  },
  {
   "cell_type": "code",
   "execution_count": 5,
   "metadata": {},
   "outputs": [],
   "source": [
    "dataset_train = DatasetSpgramSyntheticData(path_data='../sample_data.h5',\n",
    "                           start=0, end=84,\n",
    "                           augment=True,hop_size=hop_size,window_size=window_size,window=window)\n",
    "dataset_validation = DatasetSpgramSyntheticData(path_data='../sample_data.h5',\n",
    "                           start=84, end=108,\n",
    "                           augment=False,hop_size=hop_size,window_size=window_size, window=window)"
   ]
  },
  {
   "cell_type": "markdown",
   "metadata": {},
   "source": [
    "### Modelo"
   ]
  },
  {
   "cell_type": "code",
   "execution_count": 6,
   "metadata": {},
   "outputs": [],
   "source": [
    "spectrovit = SpectroViT().to(device)"
   ]
  },
  {
   "cell_type": "markdown",
   "metadata": {},
   "source": [
    "### Loss e Optimizer"
   ]
  },
  {
   "cell_type": "code",
   "execution_count": 7,
   "metadata": {},
   "outputs": [],
   "source": [
    "loss = RangeMAELoss()\n",
    "optimizer = torch.optim.Adam(spectrovit.parameters(), lr=1e-4)\n",
    "lr_scheduler = CustomLRScheduler(optimizer,'cosineannealinglr',T_max = 10, eta_min = 1e-6)"
   ]
  },
  {
   "cell_type": "markdown",
   "metadata": {},
   "source": [
    "### Loop de treino e validação"
   ]
  },
  {
   "cell_type": "code",
   "execution_count": 8,
   "metadata": {},
   "outputs": [],
   "source": [
    "n_epochs = 30\n",
    "batch_size_train = 100\n",
    "batch_size_validation = 6\n",
    "step_for_safe_saving = 5\n",
    "step_for_saving_plots = 3\n",
    "epoch_to_switch_to_cosine = 20\n",
    "save_dir_path = '../model_hop_16_mfft_256_zp/'\n",
    "filename = 'model_hop_16_mfft_256_zp'\n",
    "name_model = 'model_hop_16_mfft_256_zp'\n",
    "save_best_model = SaveBestModel(dir_model=save_dir_path)\n",
    "save_current_model = SaveCurrentModel(dir_model=save_dir_path)"
   ]
  },
  {
   "cell_type": "code",
   "execution_count": 9,
   "metadata": {},
   "outputs": [],
   "source": [
    "dataloader_train = DataLoader(dataset_train, batch_size=batch_size_train, shuffle=True)\n",
    "dataloader_validation = DataLoader(dataset_validation, batch_size=batch_size_validation, shuffle=True)"
   ]
  },
  {
   "cell_type": "code",
   "execution_count": 10,
   "metadata": {},
   "outputs": [
    {
     "name": "stdout",
     "output_type": "stream",
     "text": [
      "Number of parameters: 90473472\n"
     ]
    },
    {
     "name": "stderr",
     "output_type": "stream",
     "text": [
      "Train Loop:   0%|          | 0/168 [00:00<?, ?it/s]"
     ]
    },
    {
     "name": "stdout",
     "output_type": "stream",
     "text": [
      "Generating Spectrograms of size:  (177, 124)\n",
      "Zero padded to shape:  (1, 224, 224)\n"
     ]
    },
    {
     "name": "stderr",
     "output_type": "stream",
     "text": [
      "Train Loop: 100%|██████████| 168/168 [07:56<00:00,  2.84s/it, desc=[epoch: 1], iteration: 167/168, loss: 0.006324598500560526] \n",
      "Validation Loop:  25%|██▌       | 1/4 [00:00<00:00,  5.87it/s, desc=[Epoch 1] Loss: 0.0023229687940329313 | MSE:0.0003225 | SNR:54.7633384 | FWHM:0.0764546 | Shape Score:0.9992894]"
     ]
    },
    {
     "name": "stdout",
     "output_type": "stream",
     "text": [
      "Generating Spectrograms of size:  (177, 124)\n",
      "Zero padded to shape:  (1, 224, 224)\n"
     ]
    },
    {
     "name": "stderr",
     "output_type": "stream",
     "text": [
      "Validation Loop: 100%|██████████| 4/4 [00:00<00:00,  5.85it/s, desc=[Epoch 1] Loss: 0.002425465267151594 | MSE:0.0003272 | SNR:45.1928203 | FWHM:0.0764546 | Shape Score:0.9992136] \n"
     ]
    },
    {
     "name": "stdout",
     "output_type": "stream",
     "text": [
      "Best validation score: 0.2004191679332423\n",
      "Saving current model with score: 0.2004191679332423\n",
      "Number of parameters: 90473472\n"
     ]
    },
    {
     "name": "stderr",
     "output_type": "stream",
     "text": [
      "Train Loop: 100%|██████████| 168/168 [07:50<00:00,  2.80s/it, desc=[epoch: 2], iteration: 167/168, loss: 0.002232827646020312] \n",
      "Validation Loop: 100%|██████████| 4/4 [00:00<00:00,  5.95it/s, desc=[Epoch 2] Loss: 0.0019516872707754374 | MSE:0.0002430 | SNR:68.5165137 | FWHM:0.0764546 | Shape Score:0.9995124]\n"
     ]
    },
    {
     "name": "stdout",
     "output_type": "stream",
     "text": [
      "Best validation score: 0.20029197339934687\n",
      "Number of parameters: 90473472\n"
     ]
    },
    {
     "name": "stderr",
     "output_type": "stream",
     "text": [
      "Train Loop: 100%|██████████| 168/168 [07:39<00:00,  2.74s/it, desc=[epoch: 3], iteration: 167/168, loss: 0.0019538138343098885]\n",
      "Validation Loop: 100%|██████████| 4/4 [00:00<00:00,  5.93it/s, desc=[Epoch 3] Loss: 0.0016194740310311317 | MSE:0.0002463 | SNR:72.7033412 | FWHM:0.0764546 | Shape Score:0.9995846]\n"
     ]
    },
    {
     "name": "stdout",
     "output_type": "stream",
     "text": [
      "Best validation score: 0.20028017443276586\n",
      "Number of parameters: 90473472\n"
     ]
    },
    {
     "name": "stderr",
     "output_type": "stream",
     "text": [
      "Train Loop: 100%|██████████| 168/168 [07:38<00:00,  2.73s/it, desc=[epoch: 4], iteration: 167/168, loss: 0.0018821768351786193]\n",
      "Validation Loop: 100%|██████████| 4/4 [00:00<00:00,  5.93it/s, desc=[Epoch 4] Loss: 0.0019656228832900524 | MSE:0.0002278 | SNR:83.6486054 | FWHM:0.0764546 | Shape Score:0.9996398]\n"
     ]
    },
    {
     "name": "stdout",
     "output_type": "stream",
     "text": [
      "Best validation score: 0.2002543519569465\n",
      "Number of parameters: 90473472\n"
     ]
    },
    {
     "name": "stderr",
     "output_type": "stream",
     "text": [
      "Train Loop: 100%|██████████| 168/168 [07:39<00:00,  2.73s/it, desc=[epoch: 5], iteration: 167/168, loss: 0.0017930228274226898]\n",
      "Validation Loop: 100%|██████████| 4/4 [00:00<00:00,  5.80it/s, desc=[Epoch 5] Loss: 0.0015298088546842337 | MSE:0.0001632 | SNR:92.7966301 | FWHM:0.0764546 | Shape Score:0.9996548] \n"
     ]
    },
    {
     "name": "stdout",
     "output_type": "stream",
     "text": [
      "Best validation score: 0.2001996054950914\n",
      "Number of parameters: 90473472\n"
     ]
    },
    {
     "name": "stderr",
     "output_type": "stream",
     "text": [
      "Train Loop: 100%|██████████| 168/168 [07:39<00:00,  2.74s/it, desc=[epoch: 6], iteration: 167/168, loss: 0.0015954121987479517]\n",
      "Validation Loop: 100%|██████████| 4/4 [00:00<00:00,  5.95it/s, desc=[Epoch 6] Loss: 0.0022185244597494602 | MSE:0.0001720 | SNR:80.7839642 | FWHM:0.0767732 | Shape Score:0.9995991]\n"
     ]
    },
    {
     "name": "stdout",
     "output_type": "stream",
     "text": [
      "Saving current model with score: 0.20021777607513042\n",
      "Number of parameters: 90473472\n"
     ]
    },
    {
     "name": "stderr",
     "output_type": "stream",
     "text": [
      "Train Loop: 100%|██████████| 168/168 [07:41<00:00,  2.75s/it, desc=[epoch: 7], iteration: 167/168, loss: 0.001641230309836655] \n",
      "Validation Loop: 100%|██████████| 4/4 [00:00<00:00,  5.86it/s, desc=[Epoch 7] Loss: 0.001554556773044169 | MSE:0.0001158 | SNR:98.4013284 | FWHM:0.0764546 | Shape Score:0.9997062] \n"
     ]
    },
    {
     "name": "stdout",
     "output_type": "stream",
     "text": [
      "Best validation score: 0.2001514038629295\n",
      "Number of parameters: 90473472\n"
     ]
    },
    {
     "name": "stderr",
     "output_type": "stream",
     "text": [
      "Train Loop: 100%|██████████| 168/168 [07:54<00:00,  2.83s/it, desc=[epoch: 8], iteration: 167/168, loss: 0.0015211868310524594]\n",
      "Validation Loop: 100%|██████████| 4/4 [00:00<00:00,  5.89it/s, desc=[Epoch 8] Loss: 0.0019668324384838343 | MSE:0.0001589 | SNR:95.7624953 | FWHM:0.0764546 | Shape Score:0.9996207]\n"
     ]
    },
    {
     "name": "stdout",
     "output_type": "stream",
     "text": [
      "Number of parameters: 90473472\n"
     ]
    },
    {
     "name": "stderr",
     "output_type": "stream",
     "text": [
      "Train Loop: 100%|██████████| 168/168 [07:41<00:00,  2.75s/it, desc=[epoch: 9], iteration: 167/168, loss: 0.0014348847464480926]\n",
      "Validation Loop: 100%|██████████| 4/4 [00:00<00:00,  5.91it/s, desc=[Epoch 9] Loss: 0.0016418424202129245 | MSE:0.0001549 | SNR:102.5540761 | FWHM:0.0764546 | Shape Score:0.9996380]\n"
     ]
    },
    {
     "name": "stdout",
     "output_type": "stream",
     "text": [
      "Number of parameters: 90473472\n"
     ]
    },
    {
     "name": "stderr",
     "output_type": "stream",
     "text": [
      "Train Loop: 100%|██████████| 168/168 [07:48<00:00,  2.79s/it, desc=[epoch: 10], iteration: 167/168, loss: 0.0013481232544152242]\n",
      "Validation Loop: 100%|██████████| 4/4 [00:00<00:00,  5.73it/s, desc=[Epoch 10] Loss: 0.00161182158626616 | MSE:0.0001508 | SNR:101.5230721 | FWHM:0.0764546 | Shape Score:0.9996747]  \n"
     ]
    },
    {
     "name": "stdout",
     "output_type": "stream",
     "text": [
      "Number of parameters: 90473472\n"
     ]
    },
    {
     "name": "stderr",
     "output_type": "stream",
     "text": [
      "Train Loop: 100%|██████████| 168/168 [07:50<00:00,  2.80s/it, desc=[epoch: 11], iteration: 167/168, loss: 0.001388516661661145] \n",
      "Validation Loop: 100%|██████████| 4/4 [00:00<00:00,  5.74it/s, desc=[Epoch 11] Loss: 0.0016340480651706457 | MSE:0.0001358 | SNR:97.3150049 | FWHM:0.0764546 | Shape Score:0.9997131]\n"
     ]
    },
    {
     "name": "stdout",
     "output_type": "stream",
     "text": [
      "Saving current model with score: 0.2001660200786386\n",
      "Number of parameters: 90473472\n"
     ]
    },
    {
     "name": "stderr",
     "output_type": "stream",
     "text": [
      "Train Loop: 100%|██████████| 168/168 [07:50<00:00,  2.80s/it, desc=[epoch: 12], iteration: 167/168, loss: 0.0012514154881327635]\n",
      "Validation Loop: 100%|██████████| 4/4 [00:00<00:00,  5.59it/s, desc=[Epoch 12] Loss: 0.001786793814972043 | MSE:0.0001800 | SNR:98.1112369 | FWHM:0.0764546 | Shape Score:0.9996066]  \n"
     ]
    },
    {
     "name": "stdout",
     "output_type": "stream",
     "text": [
      "Number of parameters: 90473472\n"
     ]
    },
    {
     "name": "stderr",
     "output_type": "stream",
     "text": [
      "Train Loop: 100%|██████████| 168/168 [07:50<00:00,  2.80s/it, desc=[epoch: 13], iteration: 167/168, loss: 0.001208553019317887] \n",
      "Validation Loop: 100%|██████████| 4/4 [00:00<00:00,  5.65it/s, desc=[Epoch 13] Loss: 0.0014215062838047743 | MSE:0.0001191 | SNR:101.0621094 | FWHM:0.0764546 | Shape Score:0.9997006]\n"
     ]
    },
    {
     "name": "stdout",
     "output_type": "stream",
     "text": [
      "Number of parameters: 90473472\n"
     ]
    },
    {
     "name": "stderr",
     "output_type": "stream",
     "text": [
      "Train Loop: 100%|██████████| 168/168 [07:50<00:00,  2.80s/it, desc=[epoch: 14], iteration: 167/168, loss: 0.0011831444831581653]\n",
      "Validation Loop: 100%|██████████| 4/4 [00:00<00:00,  5.71it/s, desc=[Epoch 14] Loss: 0.0017299854662269354 | MSE:0.0001660 | SNR:102.4969227 | FWHM:0.0764546 | Shape Score:0.9996785]\n"
     ]
    },
    {
     "name": "stdout",
     "output_type": "stream",
     "text": [
      "Number of parameters: 90473472\n"
     ]
    },
    {
     "name": "stderr",
     "output_type": "stream",
     "text": [
      "Train Loop: 100%|██████████| 168/168 [07:49<00:00,  2.79s/it, desc=[epoch: 15], iteration: 167/168, loss: 0.0011164128712456052]\n",
      "Validation Loop: 100%|██████████| 4/4 [00:00<00:00,  5.81it/s, desc=[Epoch 15] Loss: 0.0015442497096955776 | MSE:0.0001379 | SNR:110.3973476 | FWHM:0.0764546 | Shape Score:0.9996766]\n"
     ]
    },
    {
     "name": "stdout",
     "output_type": "stream",
     "text": [
      "Number of parameters: 90473472\n"
     ]
    },
    {
     "name": "stderr",
     "output_type": "stream",
     "text": [
      "Train Loop: 100%|██████████| 168/168 [07:49<00:00,  2.80s/it, desc=[epoch: 16], iteration: 167/168, loss: 0.0010388516096836178]\n",
      "Validation Loop: 100%|██████████| 4/4 [00:00<00:00,  5.85it/s, desc=[Epoch 16] Loss: 0.0015826085582375526 | MSE:0.0001457 | SNR:130.9270116 | FWHM:0.0767732 | Shape Score:0.9996764]\n"
     ]
    },
    {
     "name": "stdout",
     "output_type": "stream",
     "text": [
      "Saving current model with score: 0.20018129252111255\n",
      "Number of parameters: 90473472\n"
     ]
    },
    {
     "name": "stderr",
     "output_type": "stream",
     "text": [
      "Train Loop: 100%|██████████| 168/168 [07:49<00:00,  2.79s/it, desc=[epoch: 17], iteration: 167/168, loss: 0.0010756599000333587]\n",
      "Validation Loop: 100%|██████████| 4/4 [00:00<00:00,  5.73it/s, desc=[Epoch 17] Loss: 0.0014768302207812667 | MSE:0.0001633 | SNR:113.9074810 | FWHM:0.0761361 | Shape Score:0.9996178]\n"
     ]
    },
    {
     "name": "stdout",
     "output_type": "stream",
     "text": [
      "Number of parameters: 90473472\n"
     ]
    },
    {
     "name": "stderr",
     "output_type": "stream",
     "text": [
      "Train Loop: 100%|██████████| 168/168 [07:47<00:00,  2.78s/it, desc=[epoch: 18], iteration: 167/168, loss: 0.0010171099170942657]\n",
      "Validation Loop: 100%|██████████| 4/4 [00:00<00:00,  5.80it/s, desc=[Epoch 18] Loss: 0.0016066262032836676 | MSE:0.0001837 | SNR:116.9164966 | FWHM:0.0767732 | Shape Score:0.9997012]\n"
     ]
    },
    {
     "name": "stdout",
     "output_type": "stream",
     "text": [
      "Number of parameters: 90473472\n"
     ]
    },
    {
     "name": "stderr",
     "output_type": "stream",
     "text": [
      "Train Loop: 100%|██████████| 168/168 [07:47<00:00,  2.78s/it, desc=[epoch: 19], iteration: 167/168, loss: 0.0009316800133092329]\n",
      "Validation Loop: 100%|██████████| 4/4 [00:00<00:00,  5.76it/s, desc=[Epoch 19] Loss: 0.001707621500827372 | MSE:0.0001804 | SNR:129.8125695 | FWHM:0.0764546 | Shape Score:0.9996652] \n"
     ]
    },
    {
     "name": "stdout",
     "output_type": "stream",
     "text": [
      "Number of parameters: 90473472\n"
     ]
    },
    {
     "name": "stderr",
     "output_type": "stream",
     "text": [
      "Train Loop: 100%|██████████| 168/168 [07:48<00:00,  2.79s/it, desc=[epoch: 20], iteration: 167/168, loss: 0.000962719668418036] \n",
      "Validation Loop: 100%|██████████| 4/4 [00:00<00:00,  5.76it/s, desc=[Epoch 20] Loss: 0.0016310039209201932 | MSE:0.0001539 | SNR:104.3622648 | FWHM:0.0767732 | Shape Score:0.9996591]\n"
     ]
    },
    {
     "name": "stdout",
     "output_type": "stream",
     "text": [
      "Number of parameters: 90473472\n"
     ]
    },
    {
     "name": "stderr",
     "output_type": "stream",
     "text": [
      "Train Loop: 100%|██████████| 168/168 [07:49<00:00,  2.79s/it, desc=[epoch: 21], iteration: 167/168, loss: 0.0009252577732522262]\n",
      "Validation Loop: 100%|██████████| 4/4 [00:00<00:00,  5.70it/s, desc=[Epoch 21] Loss: 0.0017582259606570005 | MSE:0.0002132 | SNR:124.1670175 | FWHM:0.0770917 | Shape Score:0.9996129]\n"
     ]
    },
    {
     "name": "stdout",
     "output_type": "stream",
     "text": [
      "Saving current model with score: 0.2002479894956464\n",
      "Number of parameters: 90473472\n"
     ]
    },
    {
     "name": "stderr",
     "output_type": "stream",
     "text": [
      "Train Loop: 100%|██████████| 168/168 [07:50<00:00,  2.80s/it, desc=[epoch: 22], iteration: 167/168, loss: 0.0005921933739695565]\n",
      "Validation Loop: 100%|██████████| 4/4 [00:00<00:00,  5.77it/s, desc=[Epoch 22] Loss: 0.001503751496784389 | MSE:0.0001344 | SNR:228.0499068 | FWHM:0.0764546 | Shape Score:0.9997082] \n"
     ]
    },
    {
     "name": "stdout",
     "output_type": "stream",
     "text": [
      "Current learning rate: 9.779754323328192e-06\n",
      "Number of parameters: 90473472\n"
     ]
    },
    {
     "name": "stderr",
     "output_type": "stream",
     "text": [
      "Train Loop: 100%|██████████| 168/168 [07:52<00:00,  2.81s/it, desc=[epoch: 23], iteration: 167/168, loss: 0.0005552757684199605]\n",
      "Validation Loop: 100%|██████████| 4/4 [00:00<00:00,  5.84it/s, desc=[Epoch 23] Loss: 0.0015997396549209952 | MSE:0.0001583 | SNR:247.7476226 | FWHM:0.0764546 | Shape Score:0.9996748]\n"
     ]
    },
    {
     "name": "stdout",
     "output_type": "stream",
     "text": [
      "Current learning rate: 9.140576474687263e-06\n",
      "Number of parameters: 90473472\n"
     ]
    },
    {
     "name": "stderr",
     "output_type": "stream",
     "text": [
      "Train Loop: 100%|██████████| 168/168 [07:50<00:00,  2.80s/it, desc=[epoch: 24], iteration: 167/168, loss: 0.0005385574816803759]\n",
      "Validation Loop: 100%|██████████| 4/4 [00:00<00:00,  5.83it/s, desc=[Epoch 24] Loss: 0.001525221741758287 | MSE:0.0001451 | SNR:231.3695546 | FWHM:0.0761361 | Shape Score:0.9996993] \n"
     ]
    },
    {
     "name": "stdout",
     "output_type": "stream",
     "text": [
      "Current learning rate: 8.145033635316128e-06\n",
      "Number of parameters: 90473472\n"
     ]
    },
    {
     "name": "stderr",
     "output_type": "stream",
     "text": [
      "Train Loop: 100%|██████████| 168/168 [07:52<00:00,  2.82s/it, desc=[epoch: 25], iteration: 167/168, loss: 0.0005237202298996548]\n",
      "Validation Loop: 100%|██████████| 4/4 [00:00<00:00,  5.78it/s, desc=[Epoch 25] Loss: 0.0017171984072774649 | MSE:0.0001673 | SNR:243.2953928 | FWHM:0.0764546 | Shape Score:0.9997338]\n"
     ]
    },
    {
     "name": "stdout",
     "output_type": "stream",
     "text": [
      "Current learning rate: 6.890576474687263e-06\n",
      "Number of parameters: 90473472\n"
     ]
    },
    {
     "name": "stderr",
     "output_type": "stream",
     "text": [
      "Train Loop: 100%|██████████| 168/168 [07:50<00:00,  2.80s/it, desc=[epoch: 26], iteration: 167/168, loss: 0.0005203105805170102]\n",
      "Validation Loop: 100%|██████████| 4/4 [00:00<00:00,  5.76it/s, desc=[Epoch 26] Loss: 0.001721328473649919 | MSE:0.0001313 | SNR:243.3908711 | FWHM:0.0764546 | Shape Score:0.9997013] \n"
     ]
    },
    {
     "name": "stdout",
     "output_type": "stream",
     "text": [
      "Current learning rate: 5.5e-06\n",
      "Saving current model with score: 0.2001648162180429\n",
      "Number of parameters: 90473472\n"
     ]
    },
    {
     "name": "stderr",
     "output_type": "stream",
     "text": [
      "Train Loop: 100%|██████████| 168/168 [07:51<00:00,  2.80s/it, desc=[epoch: 27], iteration: 167/168, loss: 0.0005057805529282806]\n",
      "Validation Loop: 100%|██████████| 4/4 [00:00<00:00,  5.74it/s, desc=[Epoch 27] Loss: 0.0016715137753635645 | MSE:0.0001448 | SNR:240.4372527 | FWHM:0.0764546 | Shape Score:0.9997027]\n"
     ]
    },
    {
     "name": "stdout",
     "output_type": "stream",
     "text": [
      "Current learning rate: 4.109423525312737e-06\n",
      "Number of parameters: 90473472\n"
     ]
    },
    {
     "name": "stderr",
     "output_type": "stream",
     "text": [
      "Train Loop: 100%|██████████| 168/168 [07:49<00:00,  2.80s/it, desc=[epoch: 28], iteration: 167/168, loss: 0.0005030192320797747]\n",
      "Validation Loop: 100%|██████████| 4/4 [00:00<00:00,  5.84it/s, desc=[Epoch 28] Loss: 0.001740835839882493 | MSE:0.0001807 | SNR:240.6246098 | FWHM:0.0767732 | Shape Score:0.9996482] \n"
     ]
    },
    {
     "name": "stdout",
     "output_type": "stream",
     "text": [
      "Current learning rate: 2.8549663646838717e-06\n",
      "Number of parameters: 90473472\n"
     ]
    },
    {
     "name": "stderr",
     "output_type": "stream",
     "text": [
      "Train Loop: 100%|██████████| 168/168 [07:49<00:00,  2.79s/it, desc=[epoch: 29], iteration: 167/168, loss: 0.0004915804027058627]\n",
      "Validation Loop: 100%|██████████| 4/4 [00:00<00:00,  5.65it/s, desc=[Epoch 29] Loss: 0.001420316519215703 | MSE:0.0001389 | SNR:247.8191147 | FWHM:0.0764546 | Shape Score:0.9996878] \n"
     ]
    },
    {
     "name": "stdout",
     "output_type": "stream",
     "text": [
      "Current learning rate: 1.859423525312737e-06\n",
      "Number of parameters: 90473472\n"
     ]
    },
    {
     "name": "stderr",
     "output_type": "stream",
     "text": [
      "Train Loop: 100%|██████████| 168/168 [07:43<00:00,  2.76s/it, desc=[epoch: 30], iteration: 167/168, loss: 0.0004816648120357145] \n",
      "Validation Loop: 100%|██████████| 4/4 [00:00<00:00,  5.78it/s, desc=[Epoch 30] Loss: 0.0016862963093444705 | MSE:0.0001537 | SNR:246.9064289 | FWHM:0.0764546 | Shape Score:0.9997241]"
     ]
    },
    {
     "name": "stdout",
     "output_type": "stream",
     "text": [
      "Current learning rate: 1.220245676671809e-06\n"
     ]
    },
    {
     "name": "stderr",
     "output_type": "stream",
     "text": [
      "\n"
     ]
    }
   ],
   "source": [
    "train_loss_list = []\n",
    "val_loss_list = []\n",
    "val_mean_mse_list = []\n",
    "val_mean_snr_list = []\n",
    "val_mean_linewidth_list = []\n",
    "val_mean_shape_score_list = []\n",
    "score_challenge_list = []\n",
    "\n",
    "os.makedirs(save_dir_path, exist_ok=True)\n",
    "clean_directory(save_dir_path)\n",
    "\n",
    "for epoch in range(n_epochs):\n",
    "\n",
    "  calculate_parameters(spectrovit)\n",
    "  train_loss = run_train_epoch(model=spectrovit, optimizer=optimizer, criterion=loss, loader=dataloader_train, epoch=epoch, device=device)\n",
    "  val_loss, loader_mean_mse, loader_mean_snr,loader_mean_linewidth,loader_mean_shape_score,score_challenge = run_validation(model=spectrovit, criterion=loss, loader=dataloader_validation, epoch=epoch, device=device)\n",
    "\n",
    "  train_loss_list.append(train_loss)\n",
    "  val_loss_list.append(val_loss)\n",
    "  val_mean_mse_list.append(loader_mean_mse)\n",
    "  val_mean_snr_list.append(loader_mean_snr)\n",
    "  val_mean_linewidth_list.append(loader_mean_linewidth)\n",
    "  val_mean_shape_score_list.append(loader_mean_shape_score)\n",
    "  score_challenge_list.append(score_challenge)\n",
    "\n",
    "  if epoch == epoch_to_switch_to_cosine:\n",
    "    for param_group in optimizer.param_groups:\n",
    "      param_group['lr'] = 1e-5\n",
    "  elif epoch > epoch_to_switch_to_cosine:\n",
    "    lr_scheduler.step()\n",
    "    print(\"Current learning rate:\",lr_scheduler.scheduler.get_last_lr()[0])\n",
    "\n",
    "  save_best_model(current_valid_score=score_challenge, model=spectrovit, name_model=name_model)\n",
    "  if epoch%step_for_saving_plots == 0:\n",
    "    valid_on_the_fly(model=spectrovit, epoch=epoch, val_dataset=dataset_validation, save_dir_path=save_dir_path, filename=filename, device=device)\n",
    "  if epoch%step_for_safe_saving == 0:\n",
    "    save_current_model(current_valid_score=score_challenge, model=spectrovit, name_model=name_model)\n"
   ]
  },
  {
   "cell_type": "code",
   "execution_count": 11,
   "metadata": {},
   "outputs": [],
   "source": [
    "np.savetxt(save_dir_path+'train_loss_list.txt', np.array(train_loss_list), delimiter='\\n')\n",
    "np.savetxt(save_dir_path+'val_loss_list.txt', np.array(val_loss_list), delimiter='\\n')\n",
    "np.savetxt(save_dir_path+'val_mse_list.txt', np.array(val_mean_mse_list), delimiter='\\n')\n",
    "np.savetxt(save_dir_path+'val_snr_list.txt', np.array(val_mean_snr_list), delimiter='\\n')\n",
    "np.savetxt(save_dir_path+'val_linewidth_list.txt', np.array(val_mean_linewidth_list), delimiter='\\n')\n",
    "np.savetxt(save_dir_path+'val_mean_shape_score_list.txt', np.array(val_mean_shape_score_list), delimiter='\\n')\n",
    "np.savetxt(save_dir_path+'score_challenge_list.txt', np.array(score_challenge_list), delimiter='\\n')"
   ]
  }
 ],
 "metadata": {
  "kernelspec": {
   "display_name": "spectvit",
   "language": "python",
   "name": "python3"
  },
  "language_info": {
   "codemirror_mode": {
    "name": "ipython",
    "version": 3
   },
   "file_extension": ".py",
   "mimetype": "text/x-python",
   "name": "python",
   "nbconvert_exporter": "python",
   "pygments_lexer": "ipython3",
   "version": "3.10.12"
  }
 },
 "nbformat": 4,
 "nbformat_minor": 2
}
