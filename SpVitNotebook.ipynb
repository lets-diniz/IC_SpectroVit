{
 "cells": [
  {
   "cell_type": "markdown",
   "metadata": {},
   "source": [
    "# Notebook para treinar SpectroVit"
   ]
  },
  {
   "cell_type": "code",
   "execution_count": 1,
   "metadata": {},
   "outputs": [],
   "source": [
    "import torch\n",
    "from torch.utils.data import Dataset, DataLoader\n",
    "from tqdm.notebook import tqdm\n",
    "import random\n",
    "random.seed(5)\n",
    "import matplotlib.pyplot as plt\n",
    "import numpy as np\n",
    "from scipy import signal,stats\n",
    "import os"
   ]
  },
  {
   "cell_type": "code",
   "execution_count": 2,
   "metadata": {},
   "outputs": [
    {
     "name": "stdout",
     "output_type": "stream",
     "text": [
      "Using cuda:0\n"
     ]
    }
   ],
   "source": [
    "from datasets import DatasetSpgramSyntheticData\n",
    "from models import SpectroViT\n",
    "from losses import RangeMAELoss\n",
    "from lr_scheduler import CustomLRScheduler\n",
    "from save_models import SaveBestModel, SaveCurrentModel\n",
    "from main_functions_adapted import valid_on_the_fly, run_train_epoch, run_validation\n",
    "from main import calculate_parameters\n",
    "from utils import clean_directory"
   ]
  },
  {
   "cell_type": "code",
   "execution_count": 3,
   "metadata": {},
   "outputs": [],
   "source": [
    "device = torch.device('cuda' if torch.cuda.is_available() else 'cpu')"
   ]
  },
  {
   "cell_type": "markdown",
   "metadata": {},
   "source": [
    "### Dados"
   ]
  },
  {
   "cell_type": "code",
   "execution_count": 4,
   "metadata": {},
   "outputs": [],
   "source": [
    "hop_size = 16\n",
    "window_size = 256\n",
    "window = signal.windows.hann(256,sym = True)"
   ]
  },
  {
   "cell_type": "code",
   "execution_count": 5,
   "metadata": {},
   "outputs": [],
   "source": [
    "dataset_train = DatasetSpgramSyntheticData(path_data='../sample_data.h5',\n",
    "                           start=0, end=84,\n",
    "                           augment=True,hop_size=hop_size,window_size=window_size,window=window)\n",
    "dataset_validation = DatasetSpgramSyntheticData(path_data='../sample_data.h5',\n",
    "                           start=84, end=108,\n",
    "                           augment=False,hop_size=hop_size,window_size=window_size, window=window)"
   ]
  },
  {
   "cell_type": "markdown",
   "metadata": {},
   "source": [
    "### Modelo"
   ]
  },
  {
   "cell_type": "code",
   "execution_count": 6,
   "metadata": {},
   "outputs": [],
   "source": [
    "spectrovit = SpectroViT().to(device)"
   ]
  },
  {
   "cell_type": "markdown",
   "metadata": {},
   "source": [
    "### Loss e Optimizer"
   ]
  },
  {
   "cell_type": "code",
   "execution_count": 7,
   "metadata": {},
   "outputs": [],
   "source": [
    "loss = RangeMAELoss()\n",
    "optimizer = torch.optim.Adam(spectrovit.parameters(), lr=1e-4)\n",
    "lr_scheduler = CustomLRScheduler(optimizer,'cosineannealinglr',T_max = 10, eta_min = 1e-6)"
   ]
  },
  {
   "cell_type": "markdown",
   "metadata": {},
   "source": [
    "### Loop de treino e validação"
   ]
  },
  {
   "cell_type": "code",
   "execution_count": 8,
   "metadata": {},
   "outputs": [],
   "source": [
    "n_epochs = 30\n",
    "batch_size_train = 100\n",
    "batch_size_validation = 6\n",
    "step_for_safe_saving = 5\n",
    "step_for_saving_plots = 3\n",
    "epoch_to_switch_to_cosine = 20\n",
    "save_dir_path = '../model_hop_16_mfft_256_zp/'\n",
    "filename = 'model_hop_16_mfft_256_zp'\n",
    "name_model = 'model_hop_16_mfft_256_zp'\n",
    "save_best_model = SaveBestModel(dir_model=save_dir_path)\n",
    "save_current_model = SaveCurrentModel(dir_model=save_dir_path)"
   ]
  },
  {
   "cell_type": "code",
   "execution_count": 9,
   "metadata": {},
   "outputs": [],
   "source": [
    "dataloader_train = DataLoader(dataset_train, batch_size=batch_size_train, shuffle=True)\n",
    "dataloader_validation = DataLoader(dataset_validation, batch_size=batch_size_validation, shuffle=True)"
   ]
  },
  {
   "cell_type": "code",
   "execution_count": 10,
   "metadata": {},
   "outputs": [
    {
     "name": "stdout",
     "output_type": "stream",
     "text": [
      "Number of parameters: 90473472\n"
     ]
    },
    {
     "name": "stderr",
     "output_type": "stream",
     "text": [
      "Train Loop:   0%|          | 0/168 [00:00<?, ?it/s]"
     ]
    },
    {
     "name": "stdout",
     "output_type": "stream",
     "text": [
      "Generating Spectrograms of size:  (177, 124)\n",
      "Zero padded to shape:  (1, 224, 224)\n"
     ]
    },
    {
     "name": "stderr",
     "output_type": "stream",
     "text": [
      "Train Loop: 100%|██████████| 168/168 [07:51<00:00,  2.81s/it, desc=[epoch: 1], iteration: 167/168, loss: 0.006398246673467968] \n",
      "Validation Loop:  25%|██▌       | 1/4 [00:00<00:00,  5.77it/s, desc=[Epoch 1] Loss: 0.0022447709925472736 | MSE:0.0002907 | SNR:48.2988627 | FWHM:0.0764546 | Shape Score:0.9993123]"
     ]
    },
    {
     "name": "stdout",
     "output_type": "stream",
     "text": [
      "Generating Spectrograms of size:  (177, 124)\n",
      "Zero padded to shape:  (1, 224, 224)\n"
     ]
    },
    {
     "name": "stderr",
     "output_type": "stream",
     "text": [
      "Validation Loop: 100%|██████████| 4/4 [00:00<00:00,  5.68it/s, desc=[Epoch 1] Loss: 0.0023752516135573387 | MSE:0.0003014 | SNR:42.0101368 | FWHM:0.0764546 | Shape Score:0.9992269]\n"
     ]
    },
    {
     "name": "stdout",
     "output_type": "stream",
     "text": [
      "Best validation score: 0.2003958827443011\n",
      "Saving current model with score: 0.2003958827443011\n"
     ]
    }
   ],
   "source": [
    "train_loss_list = []\n",
    "val_loss_list = []\n",
    "val_mean_mse_list = []\n",
    "val_mean_snr_list = []\n",
    "val_mean_linewidth_list = []\n",
    "val_mean_shape_score_list = []\n",
    "score_challenge_list = []\n",
    "\n",
    "os.makedirs(save_dir_path, exist_ok=True)\n",
    "clean_directory(save_dir_path)\n",
    "\n",
    "for epoch in range(n_epochs):\n",
    "\n",
    "  calculate_parameters(spectrovit)\n",
    "  train_loss = run_train_epoch(model=spectrovit, optimizer=optimizer, criterion=loss, loader=dataloader_train, epoch=epoch, device=device)\n",
    "  val_loss, loader_mean_mse, loader_mean_snr,loader_mean_linewidth,loader_mean_shape_score,score_challenge = run_validation(model=spectrovit, criterion=loss, loader=dataloader_validation, epoch=epoch, device=device)\n",
    "\n",
    "  train_loss_list.append(train_loss)\n",
    "  val_loss_list.append(val_loss)\n",
    "  val_mean_mse_list.append(loader_mean_mse)\n",
    "  val_mean_snr_list.append(loader_mean_snr)\n",
    "  val_mean_linewidth_list.append(loader_mean_linewidth)\n",
    "  val_mean_shape_score_list.append(loader_mean_shape_score)\n",
    "  score_challenge_list.append(score_challenge)\n",
    "\n",
    "  if epoch == epoch_to_switch_to_cosine:\n",
    "    for param_group in optimizer.param_groups:\n",
    "      param_group['lr'] = 1e-5\n",
    "  elif epoch > epoch_to_switch_to_cosine:\n",
    "    lr_scheduler.step()\n",
    "    print(\"Current learning rate:\",lr_scheduler.scheduler.get_last_lr()[0])\n",
    "\n",
    "  save_best_model(current_valid_score=score_challenge, model=spectrovit, name_model=name_model)\n",
    "  if epoch%step_for_saving_plots == 0:\n",
    "    valid_on_the_fly(model=spectrovit, epoch=epoch, val_dataset=dataset_validation, save_dir_path=save_dir_path, filename=filename, device=device)\n",
    "  if epoch%step_for_safe_saving == 0:\n",
    "    save_current_model(current_valid_score=score_challenge, model=spectrovit, name_model=name_model)\n"
   ]
  },
  {
   "cell_type": "code",
   "execution_count": 11,
   "metadata": {},
   "outputs": [],
   "source": [
    "np.savetxt(save_dir_path+'train_loss_list.txt', np.array(train_loss_list), delimiter='\\n')\n",
    "np.savetxt(save_dir_path+'val_loss_list.txt', np.array(val_loss_list), delimiter='\\n')\n",
    "np.savetxt(save_dir_path+'val_mse_list.txt', np.array(val_mean_mse_list), delimiter='\\n')\n",
    "np.savetxt(save_dir_path+'val_snr_list.txt', np.array(val_mean_snr_list), delimiter='\\n')\n",
    "np.savetxt(save_dir_path+'val_linewidth_list.txt', np.array(val_mean_linewidth_list), delimiter='\\n')\n",
    "np.savetxt(save_dir_path+'val_mean_shape_score_list.txt', np.array(val_mean_shape_score_list), delimiter='\\n')\n",
    "np.savetxt(save_dir_path+'score_challenge_list.txt', np.array(score_challenge_list), delimiter='\\n')"
   ]
  }
 ],
 "metadata": {
  "kernelspec": {
   "display_name": "spectvit",
   "language": "python",
   "name": "python3"
  },
  "language_info": {
   "codemirror_mode": {
    "name": "ipython",
    "version": 3
   },
   "file_extension": ".py",
   "mimetype": "text/x-python",
   "name": "python",
   "nbconvert_exporter": "python",
   "pygments_lexer": "ipython3",
   "version": "3.10.12"
  }
 },
 "nbformat": 4,
 "nbformat_minor": 2
}
