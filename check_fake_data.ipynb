{
 "cells": [
  {
   "cell_type": "code",
   "execution_count": 1,
   "metadata": {},
   "outputs": [],
   "source": [
    "import numpy as np \n",
    "import matplotlib.pyplot as plt \n",
    "import h5py\n",
    "import torch\n",
    "from torch.utils.data import Dataset, DataLoader\n",
    "from utils import get_Hz_ppm_conversion, zero_padding\n",
    "from scipy.signal import ShortTimeFFT, windows\n",
    "from pre_processing import PreProcessing\n",
    "from data_augmentation import TransientMaker"
   ]
  },
  {
   "cell_type": "code",
   "execution_count": 4,
   "metadata": {},
   "outputs": [
    {
     "name": "stdout",
     "output_type": "stream",
     "text": [
      "<KeysViewHDF5 ['ground_truth_fids', 'ppm', 't']>\n"
     ]
    }
   ],
   "source": [
    "with h5py.File('../sample_data.h5') as hf:\n",
    "    print(hf.keys())\n",
    "    ppm = hf['ppm'][()]\n",
    "    t = hf['t'][()]\n",
    "    fids = hf['ground_truth_fids'][()]"
   ]
  },
  {
   "cell_type": "code",
   "execution_count": 5,
   "metadata": {},
   "outputs": [
    {
     "name": "stdout",
     "output_type": "stream",
     "text": [
      "(200, 2048)\n",
      "(200, 2048)\n",
      "(200, 2048, 2)\n"
     ]
    }
   ],
   "source": [
    "print(ppm.shape)\n",
    "print(t.shape)\n",
    "print(fids.shape)"
   ]
  },
  {
   "cell_type": "code",
   "execution_count": 11,
   "metadata": {},
   "outputs": [
    {
     "name": "stdout",
     "output_type": "stream",
     "text": [
      "995.21790057662\n",
      "-799.58961888185\n",
      "15.6794418097479\n",
      "-15.8249719730186\n"
     ]
    }
   ],
   "source": [
    "print(np.real(fids).max())\n",
    "print(np.real(fids).min())\n",
    "print(np.real(fids[:,500:,:]).max())\n",
    "print(np.real(fids[:,500:,:]).min())\n"
   ]
  },
  {
   "cell_type": "code",
   "execution_count": 15,
   "metadata": {},
   "outputs": [
    {
     "data": {
      "text/plain": [
       "[<matplotlib.lines.Line2D at 0x7f4291ef2e90>]"
      ]
     },
     "execution_count": 15,
     "metadata": {},
     "output_type": "execute_result"
    },
    {
     "data": {
      "image/png": "[encoded data removed]",
      "text/plain": [
       "<Figure size 640x480 with 1 Axes>"
      ]
     },
     "metadata": {},
     "output_type": "display_data"
    }
   ],
   "source": [
    "plt.plot(np.real(fids[1,800:,0]))\n",
    "plt.plot(np.real(fids[0,800:,0]))"
   ]
  },
  {
   "cell_type": "code",
   "execution_count": 5,
   "metadata": {},
   "outputs": [],
   "source": [
    "a_inv, b = get_Hz_ppm_conversion(gt_fids=fids, dwelltime=t[0,1]-t[0,0], ppm=ppm)"
   ]
  },
  {
   "cell_type": "code",
   "execution_count": 30,
   "metadata": {},
   "outputs": [],
   "source": [
    "class DatasetSpgramSyntheticData(Dataset):\n",
    "    def __init__(\n",
    "        self,\n",
    "        path_data,\n",
    "        augment_with_noise,\n",
    "        augment_with_idx_repetition,\n",
    "        start=None,\n",
    "        end=None,\n",
    "        fs=None,\n",
    "        larmorfreq=None,\n",
    "        linear_shift=None,\n",
    "        hop_size=None,\n",
    "        window_size=None,\n",
    "        window=None,\n",
    "        qntty_to_augment_by_idx=None,\n",
    "        **kwargs_augment_by_noise\n",
    "    ):\n",
    "\n",
    "        self.path_data = path_data\n",
    "        self.augment_with_noise = augment_with_noise\n",
    "        self.augment_with_idx_repetition = augment_with_idx_repetition\n",
    "        self.get_item_first_time = True\n",
    "        self.random_augment = kwargs_augment_by_noise\n",
    "\n",
    "        with h5py.File(self.path_data) as hf:\n",
    "            ppm = hf['ppm'][()][:1]\n",
    "            t = np.empty((1,ppm.shape[-1]))\n",
    "            hf[\"t\"].read_direct(t,source_sel=np.s_[0:1])\n",
    "            if self.augment_with_noise is True:\n",
    "                fids = np.empty((1,ppm.shape[-1],2),dtype='complex128')\n",
    "                hf[\"ground_truth_fids\"].read_direct(fids,source_sel=np.s_[0:1])\n",
    "                total_qntty = len(hf[\"ground_truth_fids\"])\n",
    "            else:\n",
    "                fids = np.empty((1,ppm.shape[-1],2,40),dtype='complex128')\n",
    "                hf[\"corrupted_fids\"].read_direct(fids,source_sel=np.s_[0:1])\n",
    "                total_qntty = len(hf[\"corrupted_fids\"])\n",
    "\n",
    "        if start is not None and end is not None:\n",
    "            self.start_pos = start\n",
    "            self.end_pos = end\n",
    "        elif start is not None and end is None:\n",
    "            self.start_pos = start\n",
    "            self.end_pos = total_qntty\n",
    "        elif start is None and end is not None:\n",
    "            self.start_pos = 0\n",
    "            self.end_pos = end\n",
    "        else:\n",
    "            self.start_pos = 0\n",
    "            self.end_pos = total_qntty\n",
    "\n",
    "        if self.augment_with_idx_repetition is True and qntty_to_augment_by_idx is not None:\n",
    "            self.qntty_to_augment_by_idx = qntty_to_augment_by_idx\n",
    "        elif self.augment_with_idx_repetition is True and qntty_to_augment_by_idx is None:\n",
    "            self.qntty_to_augment_by_idx = 100\n",
    "        else:\n",
    "            self.qntty_to_augment_by_idx = None\n",
    "\n",
    "        if fs == None:\n",
    "            dwelltime = t[0, 1] - t[0, 0]\n",
    "            self.fs = 1 / dwelltime\n",
    "        else:\n",
    "            self.fs = fs\n",
    "\n",
    "        if larmorfreq == None or linear_shift == None:\n",
    "            a_inv, b = get_Hz_ppm_conversion(\n",
    "                gt_fids=fids, dwelltime=1 / self.fs, ppm=ppm\n",
    "            )\n",
    "        if larmorfreq == None and linear_shift == None:\n",
    "            self.larmorfreq = a_inv\n",
    "            self.linear_shift = b\n",
    "        elif larmorfreq == None and linear_shift != None:\n",
    "            self.larmorfreq = a_inv\n",
    "            self.linear_shift = linear_shift\n",
    "        elif larmorfreq != None and linear_shift == None:\n",
    "            self.larmorfreq = larmorfreq\n",
    "            self.linear_shift = b\n",
    "        else:\n",
    "            self.larmorfreq = larmorfreq\n",
    "            self.linear_shift = linear_shift\n",
    "\n",
    "        if hop_size is not None and window_size is not None and window is not None:\n",
    "            if window.shape[0] == window_size:\n",
    "                self.SFT = ShortTimeFFT(\n",
    "                    win=window,\n",
    "                    hop=hop_size,\n",
    "                    fs=self.fs,\n",
    "                    mfft=window_size,\n",
    "                    scale_to=\"magnitude\",\n",
    "                    fft_mode=\"centered\",\n",
    "                )\n",
    "                self.hop_size = hop_size\n",
    "                self.window_size = window_size\n",
    "                self.window = window\n",
    "            else:\n",
    "                self.SFT = None\n",
    "                self.hop_size = None\n",
    "                self.window_size = None\n",
    "                self.window = None\n",
    "        else:\n",
    "            self.SFT = None\n",
    "            self.hop_size = None\n",
    "            self.window_size = None\n",
    "            self.window = None\n",
    "        \n",
    "        if self.augment_with_idx_repetition is True:\n",
    "            self.idx_data = np.empty(self.qntty_to_augment_by_idx * (self.end_pos - self.start_pos), dtype=\"int\")\n",
    "            idx_counter = 0\n",
    "            for i in range(self.start_pos, self.end_pos):\n",
    "                for j in range(self.qntty_to_augment_by_idx):\n",
    "                    self.idx_data[self.qntty_to_augment_by_idx * idx_counter + j] = i\n",
    "                idx_counter=idx_counter+1\n",
    "        else:\n",
    "            self.idx_data = np.arange(self.start_pos, self.end_pos)\n",
    "\n",
    "    def __len__(self) -> int:\n",
    "        return self.idx_data.shape[0]\n",
    "    \n",
    "    def _get_interval_method_augment(self, key):\n",
    "        if key in self.random_augment.keys():\n",
    "            max = self.random_augment[key][\"noise_level_base\"][\"max\"] + 1\n",
    "            min = self.random_augment[key][\"noise_level_base\"][\"min\"]\n",
    "\n",
    "            noise_level_base = np.random.randint(min, max)\n",
    "\n",
    "            max = self.random_augment[key][\"noise_level_scan_var\"][\"max\"] + 1\n",
    "            min = self.random_augment[key][\"noise_level_scan_var\"][\"min\"]\n",
    "\n",
    "            noise_level_scan_var = np.random.randint(min, max)\n",
    "\n",
    "            return noise_level_base, noise_level_scan_var\n",
    "        else:\n",
    "            return None,None\n",
    "\n",
    "    def __getitem__(\n",
    "        self, idx: int\n",
    "    ) -> (torch.Tensor, torch.Tensor, torch.Tensor, float, str):\n",
    "\n",
    "        filename = self.path_data\n",
    "        idx_in_file = self.idx_data[idx]\n",
    "        noise_amplitude_base, noise_amplitude_var = self._get_interval_method_augment(\"amplitude\")\n",
    "        noise_frequency_base, noise_frequency_var = self._get_interval_method_augment(\"frequency\")\n",
    "        noise_phase_base, noise_phase_var = self._get_interval_method_augment(\"phase\")\n",
    "\n",
    "        with h5py.File(self.path_data) as hf:\n",
    "            ppm = hf[\"ppm\"][()][idx_in_file : idx_in_file + 1]\n",
    "            t = np.empty((1,ppm.shape[-1]))\n",
    "            hf['t'].read_direct(t,source_sel=np.s_[idx_in_file : idx_in_file + 1])\n",
    "            if self.augment_with_noise is True:\n",
    "                fid = np.empty((1,ppm.shape[-1],2),dtype='complex128')\n",
    "                hf[\"ground_truth_fids\"].read_direct(fid,source_sel=np.s_[idx_in_file : idx_in_file + 1])\n",
    "            else:\n",
    "                fid = np.empty((1,ppm.shape[-1],2,40),dtype='complex128')\n",
    "                spectrum = np.empty((ppm.shape[-1]),dtype='complex128')\n",
    "                hf['corrupted_fids'].read_direct(fid,source_sel=np.s_[idx_in_file : idx_in_file + 1])\n",
    "                hf[\"spectrum\"].read_direct(spectrum,source_sel=np.s_[idx_in_file])\n",
    "\n",
    "        if self.augment_with_noise is True:\n",
    "            transientmkr = TransientMaker(fids=fid, t=t, n_transients=40)\n",
    "            if noise_amplitude_base is not None and noise_amplitude_var is not None:\n",
    "                transientmkr.add_random_amplitude_noise(noise_level_base=noise_amplitude_base, \n",
    "                                                        noise_level_scan_var=noise_amplitude_var)\n",
    "            if noise_frequency_base is not None and noise_frequency_var is not None:\n",
    "                transientmkr.add_random_frequency_noise(noise_level_base=noise_frequency_base, \n",
    "                                                        noise_level_scan_var=noise_frequency_var)\n",
    "            if noise_phase_base is not None and noise_phase_var is not None:\n",
    "                transientmkr.add_random_phase_noise(noise_level_base=noise_phase_base, \n",
    "                                                        noise_level_scan_var=noise_phase_var)\n",
    "            aug_fids = transientmkr.fids\n",
    "        else:\n",
    "            aug_fids = fid\n",
    "\n",
    "        spectrogram1 = PreProcessing.spgram_channel(\n",
    "            fid_off=aug_fids[0, :, 0, 0:14],\n",
    "            fid_on=aug_fids[0, :, 1, 0:14],\n",
    "            fs=self.fs,\n",
    "            larmorfreq=self.larmorfreq,\n",
    "            linear_shift=self.linear_shift,\n",
    "            hop_size=self.hop_size,\n",
    "            window_size=self.window_size,\n",
    "            window=self.window,\n",
    "            SFT=self.SFT,\n",
    "        )\n",
    "\n",
    "        spectrogram2 = PreProcessing.spgram_channel(\n",
    "            fid_off=aug_fids[0, :, 0, 14:27],\n",
    "            fid_on=aug_fids[0, :, 1, 14:27],\n",
    "            fs=self.fs,\n",
    "            larmorfreq=self.larmorfreq,\n",
    "            linear_shift=self.linear_shift,\n",
    "            hop_size=self.hop_size,\n",
    "            window_size=self.window_size,\n",
    "            window=self.window,\n",
    "            SFT=self.SFT,\n",
    "        )\n",
    "\n",
    "        spectrogram3 = PreProcessing.spgram_channel(\n",
    "            fid_off=aug_fids[0, :, 0, 27:40],\n",
    "            fid_on=aug_fids[0, :, 1, 27:40],\n",
    "            fs=self.fs,\n",
    "            larmorfreq=self.larmorfreq,\n",
    "            linear_shift=self.linear_shift,\n",
    "            hop_size=self.hop_size,\n",
    "            window_size=self.window_size,\n",
    "            window=self.window,\n",
    "            SFT=self.SFT,\n",
    "        )\n",
    "\n",
    "        if self.get_item_first_time == True:\n",
    "            print(\"Generating Spectrograms of size: \", spectrogram1.shape)\n",
    "\n",
    "        spectrogram1 = zero_padding(spectrogram1)\n",
    "        spectrogram1 = spectrogram1[np.newaxis, ...]\n",
    "        if self.get_item_first_time == True:\n",
    "            print(\"Zero padded to shape: \", spectrogram1.shape)\n",
    "            self.get_item_first_time = False\n",
    "        spectrogram1 = torch.from_numpy(np.real(spectrogram1))\n",
    "\n",
    "        spectrogram2 = zero_padding(spectrogram2)\n",
    "        spectrogram2 = spectrogram2[np.newaxis, ...]\n",
    "        spectrogram2 = torch.from_numpy(np.real(spectrogram2))\n",
    "\n",
    "        spectrogram3 = zero_padding(spectrogram3)\n",
    "        spectrogram3 = spectrogram3[np.newaxis, ...]\n",
    "        spectrogram3 = torch.from_numpy(np.real(spectrogram3))\n",
    "        three_channels_spectrogram = torch.concat(\n",
    "            [spectrogram1, spectrogram2, spectrogram3]\n",
    "        )\n",
    "\n",
    "        if self.augment_with_noise is True:\n",
    "            spectra_gt_fid = np.fft.fftshift(\n",
    "                np.fft.fft(fid[0, :, :], n=fid.shape[1], axis=0), axes=0\n",
    "            )\n",
    "            spectrum = spectra_gt_fid[:, 1] - spectra_gt_fid[:, 0]\n",
    "\n",
    "        constant_factor = np.max(np.abs(spectrum))\n",
    "        spectra_norm = spectrum / constant_factor\n",
    "        spectra_reordered = np.flip(np.real(spectra_norm))\n",
    "        target_spectrum = torch.from_numpy(spectra_reordered.copy())\n",
    "\n",
    "        freq = np.flip(np.fft.fftshift(np.fft.fftfreq(fid.shape[1], d=1 / self.fs)))\n",
    "        ppm_np = self.linear_shift + freq / self.larmorfreq\n",
    "        ppm = torch.from_numpy(ppm_np)\n",
    "\n",
    "        return (\n",
    "            three_channels_spectrogram.type(torch.FloatTensor),\n",
    "            target_spectrum.type(torch.FloatTensor),\n",
    "            ppm,\n",
    "            constant_factor,\n",
    "            filename,\n",
    "        )\n"
   ]
  },
  {
   "cell_type": "code",
   "execution_count": 31,
   "metadata": {},
   "outputs": [],
   "source": [
    "dataset =  DatasetSpgramRealData(path_data='../dataset_tracks2and3_training_data.h5',\n",
    "        augment_with_noise=True,\n",
    "        augment_with_idx_repetition=True,\n",
    "        start=0,\n",
    "        end=7,\n",
    "        hop_size=10,\n",
    "        window_size=256,\n",
    "        window=windows.hann(256,sym=True),\n",
    "        qntty_to_augment_by_idx=200,\n",
    "        **{'amplitude':{'noise_level_base':{'max':10,'min':2},\n",
    "                                    'noise_level_scan_var':{'max':2,'min':0}}})\n",
    "\n",
    "#**{'amplitude':{'noise_level_base':{'max':10,'min':2},\n",
    "#                                    'noise_level_scan_var':{'max':2,'min':0}},\n",
    "#                                'frequency':{'noise_level_base':{'max':6,'min':2},\n",
    "#                                    'noise_level_scan_var':{'max':2,'min':0}},\n",
    "#                                'phase':{'noise_level_base':{'max':6,'min':2},\n",
    "#                                     'noise_level_scan_var':{'max':2,'min':0}}}"
   ]
  },
  {
   "cell_type": "code",
   "execution_count": 33,
   "metadata": {},
   "outputs": [],
   "source": [
    "dataloader = DataLoader(dataset=dataset,batch_size=10,shuffle=True)\n",
    "for batch in dataloader:\n",
    "    input_, target_, ppm_, _, _, fids_= batch[0], batch[1], batch[2], batch[3], batch[4], batch[5]\n",
    "    break\n",
    "#plt.imshow(input_[4,1,:,:].detach().numpy(),cmap='gray',vmin=-0.04,vmax=0.04)"
   ]
  },
  {
   "cell_type": "code",
   "execution_count": 41,
   "metadata": {},
   "outputs": [
    {
     "data": {
      "text/plain": [
       "[<matplotlib.lines.Line2D at 0x7f43ef4cbdc0>]"
      ]
     },
     "execution_count": 41,
     "metadata": {},
     "output_type": "execute_result"
    },
    {
     "data": {
      "image/png": "[encoded data removed]",
      "text/plain": [
       "<Figure size 640x480 with 1 Axes>"
      ]
     },
     "metadata": {},
     "output_type": "display_data"
    }
   ],
   "source": [
    "plt.plot(np.real(fids_[5,0,:,0,0]))"
   ]
  },
  {
   "cell_type": "code",
   "execution_count": 21,
   "metadata": {},
   "outputs": [
    {
     "data": {
      "text/plain": [
       "(4.0, 1.0)"
      ]
     },
     "execution_count": 21,
     "metadata": {},
     "output_type": "execute_result"
    },
    {
     "data": {
      "image/png": "[encoded data removed]",
      "text/plain": [
       "<Figure size 640x480 with 1 Axes>"
      ]
     },
     "metadata": {},
     "output_type": "display_data"
    }
   ],
   "source": [
    "plt.plot(ppm_[0,:],target_[0,:])\n",
    "plt.plot(ppm_[5,:],target_[5,:])\n",
    "plt.plot(ppm_[9,:],target_[9,:])\n",
    "plt.xlim(4,1)"
   ]
  },
  {
   "cell_type": "code",
   "execution_count": 45,
   "metadata": {},
   "outputs": [],
   "source": [
    "def add_random_amplitude_noise(fids, noise_level_base=10, noise_level_scan_var=3):\n",
    "        base_noise = np.abs(\n",
    "            noise_level_base * np.ones(fids.shape[0]) + np.random.uniform(low=-noise_level_scan_var,\n",
    "                                                                               high=noise_level_scan_var,\n",
    "                                                                               size=fids.shape[0]))\n",
    "\n",
    "        noise_real = np.random.normal(0, base_noise.reshape(-1, 1, 1, 1), size=fids.shape)\n",
    "        noise_imag = 1j * np.random.normal(0, base_noise.reshape(-1, 1, 1, 1), size=fids.shape)\n",
    "        print(base_noise.shape)\n",
    "        fids = fids + noise_real + noise_imag\n",
    "        return base_noise"
   ]
  },
  {
   "cell_type": "code",
   "execution_count": 46,
   "metadata": {},
   "outputs": [
    {
     "name": "stdout",
     "output_type": "stream",
     "text": [
      "(12,)\n"
     ]
    }
   ],
   "source": [
    "aaaa = add_random_amplitude_noise(fids=fids, noise_level_base=10, noise_level_scan_var=3)"
   ]
  },
  {
   "cell_type": "code",
   "execution_count": 47,
   "metadata": {},
   "outputs": [
    {
     "data": {
      "text/plain": [
       "array([10.62343943, 11.47449434, 12.23944635,  8.88678495,  9.89737772,\n",
       "       10.85757513,  7.21002182,  8.75232075,  8.59478203,  9.27549443,\n",
       "       10.61616444, 12.58170905])"
      ]
     },
     "execution_count": 47,
     "metadata": {},
     "output_type": "execute_result"
    }
   ],
   "source": [
    "aaaa"
   ]
  },
  {
   "cell_type": "code",
   "execution_count": 49,
   "metadata": {},
   "outputs": [
    {
     "data": {
      "text/plain": [
       "array([[[[10.62343943]]],\n",
       "\n",
       "\n",
       "       [[[11.47449434]]],\n",
       "\n",
       "\n",
       "       [[[12.23944635]]],\n",
       "\n",
       "\n",
       "       [[[ 8.88678495]]],\n",
       "\n",
       "\n",
       "       [[[ 9.89737772]]],\n",
       "\n",
       "\n",
       "       [[[10.85757513]]],\n",
       "\n",
       "\n",
       "       [[[ 7.21002182]]],\n",
       "\n",
       "\n",
       "       [[[ 8.75232075]]],\n",
       "\n",
       "\n",
       "       [[[ 8.59478203]]],\n",
       "\n",
       "\n",
       "       [[[ 9.27549443]]],\n",
       "\n",
       "\n",
       "       [[[10.61616444]]],\n",
       "\n",
       "\n",
       "       [[[12.58170905]]]])"
      ]
     },
     "execution_count": 49,
     "metadata": {},
     "output_type": "execute_result"
    }
   ],
   "source": [
    "aaaa.reshape(-1, 1, 1, 1)"
   ]
  }
 ],
 "metadata": {
  "kernelspec": {
   "display_name": "spectvit",
   "language": "python",
   "name": "python3"
  },
  "language_info": {
   "codemirror_mode": {
    "name": "ipython",
    "version": 3
   },
   "file_extension": ".py",
   "mimetype": "text/x-python",
   "name": "python",
   "nbconvert_exporter": "python",
   "pygments_lexer": "ipython3",
   "version": "3.10.12"
  }
 },
 "nbformat": 4,
 "nbformat_minor": 2
}
