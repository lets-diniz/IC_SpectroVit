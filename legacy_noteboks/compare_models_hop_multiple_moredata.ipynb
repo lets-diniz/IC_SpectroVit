{
 "cells": [
  {
   "cell_type": "markdown",
   "metadata": {},
   "source": [
    "Comparação de Modelos"
   ]
  },
  {
   "cell_type": "code",
   "execution_count": null,
   "metadata": {},
   "outputs": [],
   "source": [
    "import numpy as np\n",
    "import matplotlib.pyplot as plt\n",
    "import torch\n",
    "import csv\n",
    "import torch\n",
    "from torch.utils.data import Dataset, DataLoader\n",
    "from tqdm.notebook import tqdm\n",
    "import random\n",
    "random.seed(5)\n",
    "from scipy import signal,stats\n",
    "import os\n",
    "import seaborn as sns"
   ]
  },
  {
   "cell_type": "code",
   "execution_count": null,
   "metadata": {},
   "outputs": [],
   "source": [
    "from models import SpectroViT\n",
    "from metrics import calculate_shape_score, calculate_mse\n",
    "from utils_for_evaluation import *"
   ]
  },
  {
   "cell_type": "markdown",
   "metadata": {},
   "source": [
    "Definições"
   ]
  },
  {
   "cell_type": "code",
   "execution_count": null,
   "metadata": {},
   "outputs": [],
   "source": [
    "#device = torch.device('cuda' if torch.cuda.is_available() else 'cpu')\n",
    "device = torch.device('cpu')"
   ]
  },
  {
   "cell_type": "code",
   "execution_count": null,
   "metadata": {},
   "outputs": [],
   "source": [
    "hop_size = [10,14,18,22,26,30,34]\n",
    "window_size = 256\n",
    "window = signal.windows.hann(256,sym = True)"
   ]
  },
  {
   "cell_type": "code",
   "execution_count": null,
   "metadata": {},
   "outputs": [],
   "source": [
    "spectrovit_10 = SpectroViT().to(device)\n",
    "spectrovit_10.load_state_dict(torch.load('../model_hop_10_3500GT/models/model_hop_10_3500GT_best.pt',map_location= 'cpu'))\n",
    "spectrovit_14 = SpectroViT().to(device)\n",
    "spectrovit_14.load_state_dict(torch.load('../model_hop_14_3500GT/models/model_hop_14_3500GT_best.pt',map_location= 'cpu'))\n",
    "spectrovit_18 = SpectroViT().to(device)\n",
    "spectrovit_18.load_state_dict(torch.load('../model_hop_18_3500GT/models/model_hop_18_3500GT_best.pt',map_location= 'cpu'))\n",
    "spectrovit_22 = SpectroViT().to(device)\n",
    "spectrovit_22.load_state_dict(torch.load('../model_hop_22_3500GT/models/model_hop_22_3500GT_best.pt',map_location= 'cpu'))\n",
    "spectrovit_26 = SpectroViT().to(device)\n",
    "spectrovit_26.load_state_dict(torch.load('../model_hop_26_3500GT/models/model_hop_26_3500GT_best.pt',map_location= 'cpu'))\n",
    "spectrovit_30 = SpectroViT().to(device)\n",
    "spectrovit_30.load_state_dict(torch.load('../model_hop_30_3500GT/models/model_hop_30_3500GT_best.pt',map_location= 'cpu'))\n",
    "spectrovit_34 = SpectroViT().to(device)\n",
    "spectrovit_34.load_state_dict(torch.load('../model_hop_34_3500GT/models/model_hop_34_3500GT_best.pt',map_location= 'cpu'))"
   ]
  },
  {
   "cell_type": "code",
   "execution_count": null,
   "metadata": {},
   "outputs": [],
   "source": [
    "list_models = [spectrovit_10.eval(), spectrovit_14.eval(), spectrovit_18.eval(), \n",
    "                spectrovit_22.eval(), spectrovit_26.eval(),spectrovit_30.eval(),\n",
    "                spectrovit_34.eval()]\n",
    "name_model = ['spectrovit_10','spectrovit_14',  'spectrovit_18', \n",
    "              'spectrovit_22', 'spectrovit_26','spectrovit_30',\n",
    "              'spectrovit_34']\n",
    "path_to_test_data = '../dataset_test_multiplenoise_from_SGT_4000_to_5000.h5'\n",
    "dataset_list = ['DatasetSpgramSyntheticData','DatasetSpgramSyntheticData','DatasetSpgramSyntheticData',\n",
    "                'DatasetSpgramSyntheticData','DatasetSpgramSyntheticData','DatasetSpgramSyntheticData',\n",
    "                'DatasetSpgramSyntheticData']"
   ]
  },
  {
   "cell_type": "markdown",
   "metadata": {},
   "source": [
    "Inferência: aquisição de métricas objetivas"
   ]
  },
  {
   "cell_type": "code",
   "execution_count": null,
   "metadata": {},
   "outputs": [],
   "source": [
    "dict_metrics = get_metrics_for_different_models(path_to_test_data=path_to_test_data,\n",
    "                                                list_models=list_models,\n",
    "                                                name_models=name_model,\n",
    "                                                hop_size=hop_size,\n",
    "                                                window_size=window_size,\n",
    "                                                window=window,\n",
    "                                                device=device,\n",
    "                                                dataset_list=dataset_list)"
   ]
  },
  {
   "cell_type": "markdown",
   "metadata": {},
   "source": [
    "Inferência: aquisição de objetos para visualização"
   ]
  },
  {
   "cell_type": "code",
   "execution_count": null,
   "metadata": {},
   "outputs": [],
   "source": [
    "predictions, target_concat, ppm_concat,input_spgrams = get_inference_instances(path_to_test_data=path_to_test_data,\n",
    "                                                                               list_models=list_models,\n",
    "                                                                               name_models=name_model,\n",
    "                                                                               hop_size=hop_size,\n",
    "                                                                               window_size=window_size,\n",
    "                                                                               window=window,\n",
    "                                                                               device=device,\n",
    "                                                                               dataset_list=dataset_list)\n"
   ]
  },
  {
   "cell_type": "code",
   "execution_count": null,
   "metadata": {},
   "outputs": [],
   "source": [
    "x = [predictions[str(int(10))]['spectrovit_'+str(int(10))].flatten(),\n",
    "     predictions[str(int(14))]['spectrovit_'+str(int(14))].flatten(),\n",
    "     predictions[str(int(18))]['spectrovit_'+str(int(18))].flatten(),\n",
    "     target_concat.flatten()]\n",
    "\n",
    "y = [predictions[str(int(22))]['spectrovit_'+str(int(22))].flatten(),\n",
    "     predictions[str(int(26))]['spectrovit_'+str(int(26))].flatten(),\n",
    "     predictions[str(int(30))]['spectrovit_'+str(int(30))].flatten(),\n",
    "     predictions[str(int(34))]['spectrovit_'+str(int(34))].flatten(),\n",
    "     target_concat.flatten()]\n",
    "\n",
    "labels_x = ['vit10', 'vit14', 'vit18','target']\n",
    "colors_x = ['lightcoral', 'peru', 'greenyellow','black']\n",
    "\n",
    "labels_y = ['vit22','vit26','vit30','vit34','target']\n",
    "colors_y = ['turquoise','royalblue','violet','pink','black']\n",
    "fig, ax = plt.subplots(1,2,figsize=(16,4))\n",
    "ax[0].hist(x, bins=80, density=True, histtype='step', color=colors_x,label=labels_x)\n",
    "ax[0].hist(x, bins=80, density=True, histtype='stepfilled',color=colors_x,  alpha=0.25)\n",
    "ax[1].hist(y, bins=80, density=True, histtype='step', color=colors_y,label=labels_y)\n",
    "ax[1].hist(y, bins=80, density=True, histtype='stepfilled',color=colors_y,  alpha=0.25)\n",
    "\n",
    "ax[0].legend(prop={'size': 10})\n",
    "ax[1].legend(prop={'size': 10})\n",
    "\n",
    "ax[0].set_title('Histograma: Espectro de GABA')\n",
    "ax[0].set_xlabel('Valores no Espectro de GABA')\n",
    "ax[0].set_ylabel('Distribuição dos Valores do Espectro \\n no conjunto de Teste')\n",
    "ax[0].set_yscale('log')\n",
    "\n",
    "ax[1].set_title('Histograma: Espectro de GABA')\n",
    "ax[1].set_xlabel('Valores no Espectro de GABA')\n",
    "ax[1].set_ylabel('Distribuição dos Valores do Espectro \\n no conjunto de Teste')\n",
    "ax[1].set_yscale('log')"
   ]
  },
  {
   "cell_type": "code",
   "execution_count": null,
   "metadata": {},
   "outputs": [],
   "source": [
    "from matplotlib.gridspec import GridSpec\n",
    "fig = plt.figure(figsize=(16, 4))\n",
    "gs = GridSpec(1, 4, figure=fig)\n",
    "\n",
    "ax1 = fig.add_subplot(gs[0])  # First plot spans columns 0 and 1\n",
    "ax2 = fig.add_subplot(gs[1])   # Second plot spans only the last column\n",
    "ax3 = fig.add_subplot(gs[2:])   # Second plot spans only the last column\n",
    "position_sup = np.abs(ppm_concat[0,:]-3.2).argmin()\n",
    "position_inf = np.abs(ppm_concat[0,:]-2.8).argmin()\n",
    "for i,hop in enumerate(hop_size):\n",
    "    ax1.plot(ppm_concat[0,position_sup:position_inf], predictions[str(int(hop))][name_model[i]][0,position_sup:position_inf], label='vit'+str(int(hop)))\n",
    "ax1.plot(ppm_concat[0,position_sup:position_inf],target_concat[0,position_sup:position_inf],label='real')\n",
    "ax1.set_title('Espectros de GABA \\n Pico de GABA')\n",
    "ax1.set_xlabel('Desloc. Químico (ppm)')\n",
    "ax1.set_ylabel('Espectro Normalizado')\n",
    "ax1.set_xlim(3.2,2.8)\n",
    "ax1.legend(loc='upper right')\n",
    "\n",
    "\n",
    "position_sup = np.abs(ppm_concat[0,:]-3.9).argmin()\n",
    "position_inf = np.abs(ppm_concat[0,:]-3.6).argmin()\n",
    "for i,hop in enumerate(hop_size):\n",
    "    ax2.plot(ppm_concat[0,position_sup:position_inf], predictions[str(int(hop))][name_models[i]][0,position_sup:position_inf], label='vit'+str(int(hop)))\n",
    "ax2.plot(ppm_concat[0,position_sup:position_inf],target_concat[0,position_sup:position_inf],label='real')\n",
    "ax2.set_title('Espectros de GABA \\n Pico de Glx')\n",
    "ax2.set_xlabel('Desloc. Químico (ppm)')\n",
    "ax2.set_ylabel('Espectro Normalizado')\n",
    "ax2.set_xlim(3.9,3.6)\n",
    "ax2.legend(loc='upper right')\n",
    "\n",
    "\n",
    "for i,hop in enumerate(hop_size):\n",
    "    ax3.hist(predictions[str(int(hop))]['spectrovit_'+str(int(hop))].flatten(),bins=100,density=True,alpha=0.35,label='vit'+str(int(hop)))\n",
    "ax3.hist(target_concat.flatten(),bins=100,density=True,alpha=0.35,label='real')\n",
    "ax3.legend(loc='upper right')\n",
    "ax3.set_title('Distribuição Espectros \\n Reconstruídos e Real')\n",
    "ax3.set_yscale('log')\n",
    "ax3.set_xlabel('Valores do Espectro')\n",
    "ax3.set_ylabel('Densidade')\n",
    "\n",
    "plt.tight_layout()\n"
   ]
  },
  {
   "cell_type": "markdown",
   "metadata": {},
   "source": [
    "Análise:"
   ]
  },
  {
   "cell_type": "code",
   "execution_count": null,
   "metadata": {},
   "outputs": [],
   "source": [
    "fig,ax = plt.subplots(2,4,figsize=(16,8))\n",
    "for i,hop in enumerate(hop_size):\n",
    "    ax.flat[i].hist(predictions[str(int(hop))]['spectrovit_'+str(int(hop))].flatten(),bins=100,density=True,alpha=0.35,color='b',label='prediction')\n",
    "    ax.flat[i].hist(target_concat.flatten(),bins=100,density=True,alpha=0.35,color='r',label='target')\n",
    "    ax.flat[i].set_yscale('log')\n",
    "    ax.flat[i].set_title('spectrovit_'+str(int(hop)))\n",
    "    ax.flat[i].legend(loc='upper right')\n",
    "ax.flat[-1].axis('off')"
   ]
  },
  {
   "cell_type": "code",
   "execution_count": null,
   "metadata": {},
   "outputs": [],
   "source": [
    "print('range target:',np.min(target_concat),np.max(target_concat))\n",
    "for i,hop in enumerate(hop_size):\n",
    "    print('range predictions spectrovit_'+str(int(hop))+':',np.min(predictions[str(int(hop))]['spectrovit_'+str(int(hop))]),np.max(predictions[str(int(hop))]['spectrovit_'+str(int(hop))]))"
   ]
  },
  {
   "cell_type": "code",
   "execution_count": null,
   "metadata": {},
   "outputs": [],
   "source": [
    "for i,hop in enumerate(hop_size):\n",
    "    plt.hist(predictions[str(int(hop))]['spectrovit_'+str(int(hop))].flatten(),bins=100,density=True,alpha=0.35,label='spectrovit_'+str(int(hop)))\n",
    "plt.yscale('log')"
   ]
  },
  {
   "cell_type": "code",
   "execution_count": null,
   "metadata": {},
   "outputs": [],
   "source": [
    "fig,ax = plt.subplots(2,4,figsize=(16,8))\n",
    "for i,hop in enumerate(hop_size):\n",
    "  data_sorted_pred = np.sort(predictions[str(int(hop))]['spectrovit_'+str(int(hop))].flatten())\n",
    "  data_sorted_tgt = np.sort(target_concat.flatten())\n",
    "  cumulative_pred = np.arange(1, len(data_sorted_pred) + 1) / len(data_sorted_pred)\n",
    "  cumulative_tgt = np.arange(1, len(data_sorted_tgt) + 1) / len(data_sorted_tgt)\n",
    "  ax.flat[i].plot(data_sorted_pred, cumulative_pred, linestyle='solid',color='b',label='predictions')\n",
    "  ax.flat[i].plot(data_sorted_tgt, cumulative_tgt, linestyle='dotted',color='r',label='target')\n",
    "  ax.flat[i].set_title('spectrovit_'+str(int(hop)))\n",
    "  ax.flat[i].legend(loc='lower right')\n",
    "ax.flat[-1].axis('off')"
   ]
  },
  {
   "cell_type": "code",
   "execution_count": null,
   "metadata": {},
   "outputs": [],
   "source": [
    "position_sup = np.abs(ppm_concat[0,:]-4).argmin()\n",
    "position_inf = np.abs(ppm_concat[0,:]-2.5).argmin()\n",
    "fig,ax = plt.subplots(2,4,figsize=(16,8))\n",
    "for i,hop in enumerate(hop_size):\n",
    "    ax.flat[i].hist(predictions[str(int(hop))]['spectrovit_'+str(int(hop))][:,position_sup:position_inf].flatten(),bins=100,density=True,alpha=0.35,color='b',label='prediction')\n",
    "    ax.flat[i].hist(target_concat[:,position_sup:position_inf].flatten(),bins=100,density=True,alpha=0.35,color='r',label='target')\n",
    "    ax.flat[i].set_yscale('log')\n",
    "    ax.flat[i].set_title('spectrovit_'+str(int(hop)))\n",
    "    ax.flat[i].legend(loc='upper right')\n",
    "ax.flat[-1].axis('off')"
   ]
  },
  {
   "cell_type": "code",
   "execution_count": null,
   "metadata": {},
   "outputs": [],
   "source": [
    "plt.plot(predictions[str(int(hop))]['spectrovit_'+str(int(hop))][0,position_sup:position_inf])\n",
    "plt.plot(target_concat[0,position_sup:position_inf])"
   ]
  },
  {
   "cell_type": "code",
   "execution_count": null,
   "metadata": {},
   "outputs": [],
   "source": [
    "pred_stats = {'mean':[],'std':[],'median':[],'skew':[],'kurtosis':[]}\n",
    "tgt_stats = {}\n",
    "tgt_stats['mean']= np.mean(target_concat.flatten())\n",
    "tgt_stats['std']= np.std(target_concat.flatten())\n",
    "tgt_stats['median']= np.median(target_concat.flatten())\n",
    "tgt_stats['skew']= stats.skew(target_concat.flatten())\n",
    "tgt_stats['kurtosis']= stats.kurtosis(target_concat.flatten())\n",
    "for i,hop in enumerate(hop_size):\n",
    "  pred_stats['mean'].append(np.mean(predictions[str(int(hop))]['spectrovit_'+str(int(hop))].flatten()))\n",
    "  pred_stats['std'].append(np.std(predictions[str(int(hop))]['spectrovit_'+str(int(hop))].flatten()))\n",
    "  pred_stats['median'].append(np.median(predictions[str(int(hop))]['spectrovit_'+str(int(hop))].flatten()))\n",
    "  pred_stats['skew'].append(stats.skew(predictions[str(int(hop))]['spectrovit_'+str(int(hop))].flatten()))\n",
    "  pred_stats['kurtosis'].append(stats.kurtosis(predictions[str(int(hop))]['spectrovit_'+str(int(hop))].flatten()))\n",
    "print('|..............Mean.......|...........STD..........|..........Median........|..............Skew.......|..........Kurtosis......|')\n",
    "str_aux = ''\n",
    "for i,key in enumerate(list(tgt_stats.keys())):\n",
    "  if i == 0:\n",
    "    str_aux=str_aux+'| '+ 'target        ' + '{:.4E}'.format(tgt_stats[key])+ '|'\n",
    "  else:\n",
    "    str_aux=str_aux+ 'target        ' + '{:.4E}'.format(tgt_stats[key])+ '|'\n",
    "print(str_aux)\n",
    "for j,hop in enumerate(hop_size):\n",
    "  str_aux = ''\n",
    "  for i,key in enumerate(list(tgt_stats.keys())):\n",
    "    if i == 0:\n",
    "      str_aux=str_aux+'| '+'spectrovit_'+str(int(hop))+' '+ '{:.4E}'.format(pred_stats[key][j])+ '|'\n",
    "    else:\n",
    "      str_aux=str_aux+'spectrovit_'+str(int(hop))+' '+ '{:.4E}'.format(pred_stats[key][j])+ '|'\n",
    "  print(str_aux)"
   ]
  },
  {
   "cell_type": "code",
   "execution_count": null,
   "metadata": {},
   "outputs": [],
   "source": [
    "metrics_names = ['LossVal','MSEVal','SNRVal','FWHMVal','ShScVal']\n",
    "results_for_their_right_hop = {}\n",
    "for metric in metrics_names:\n",
    "        results_for_their_right_hop[metric] = [[],[]]\n",
    "        aux = []\n",
    "        for idx,model in enumerate(name_model):\n",
    "                aux.append(dict_metrics[str(int(hop_size[idx]))][metric][idx])\n",
    "        aux_model, aux_value = order_models(list_metric=aux,model_names=name_model)\n",
    "        if metric == 'SNRVal' or metric == 'ShScVal':\n",
    "                results_for_their_right_hop[metric][0] = aux_model[::-1]\n",
    "                results_for_their_right_hop[metric][1] = np.flip(aux_value)\n",
    "        else:\n",
    "                results_for_their_right_hop[metric][0] = aux_model\n",
    "                results_for_their_right_hop[metric][1] = aux_value\n",
    "print('|..............LossVal.......|..............MSEVal........|..............SNRVal........|..............FWHMVal.......|..............ShScVal.......|')\n",
    "for line_idx in range(len(name_model)):\n",
    "        str_aux = \"\"\n",
    "        for metric_idx,metric in enumerate(metrics_names):\n",
    "                if metric_idx == 0:\n",
    "                        str_aux = '| '+results_for_their_right_hop[metric][0][line_idx]+' | '+'{:.4E}'.format(results_for_their_right_hop[metric][1][line_idx])+' | ' \n",
    "                else:\n",
    "                        str_aux = str_aux + results_for_their_right_hop[metric][0][line_idx]+' | '+'{:.4E}'.format(results_for_their_right_hop[metric][1][line_idx])+' | ' \n",
    "        print(str_aux)"
   ]
  },
  {
   "cell_type": "code",
   "execution_count": null,
   "metadata": {},
   "outputs": [],
   "source": [
    "score_model_for_their_right_hop = {}\n",
    "for model in name_model:\n",
    "    score_model_for_their_right_hop[model] = 0\n",
    "for metric in metrics_names:\n",
    "    if metric != 'LossVal':\n",
    "        no_repeat = np.unique(results_for_their_right_hop[metric][1])\n",
    "        max_point = len(no_repeat)\n",
    "        for model_idx in range(len(results_for_their_right_hop[metric][0])):\n",
    "            if model_idx == 0:\n",
    "                add_to_score = max_point\n",
    "            else:\n",
    "                if results_for_their_right_hop[metric][1][model_idx] != results_for_their_right_hop[metric][1][model_idx-1]:\n",
    "                    add_to_score = add_to_score-1\n",
    "            score_model_for_their_right_hop[results_for_their_right_hop[metric][0][model_idx]] = score_model_for_their_right_hop[results_for_their_right_hop[metric][0][model_idx]] + add_to_score\n",
    "aux = []\n",
    "for model in name_model:\n",
    "    aux.append(score_model_for_their_right_hop[model])\n",
    "models_scored_for_their_right_hop, models_score_value_for_their_right_hop = order_models(list_metric=aux,model_names=name_model)\n",
    "for i in reversed(range(len(models_scored_for_their_right_hop))):\n",
    "    print(models_scored_for_their_right_hop[i] + ': '+str(models_score_value_for_their_right_hop[i]))"
   ]
  },
  {
   "cell_type": "code",
   "execution_count": null,
   "metadata": {},
   "outputs": [],
   "source": [
    "fig,ax=plt.subplots(2,2,figsize=(8,6))\n",
    "for i,metric in enumerate(metrics_names[1:]):\n",
    "    aux = []\n",
    "    for hop in hop_size:\n",
    "        aux.append(dict_metrics[str(int(hop))][metric])\n",
    "    im=ax.flat[i].imshow(np.array(aux),cmap='magma')\n",
    "    fig.colorbar(im, ax=ax.flat[i],fraction=0.046, pad=0.04)\n",
    "    # Set custom ticks and labels\n",
    "    ax.flat[i].set_xticks(ticks=np.arange(len(hop_size)), labels=['vit10','vit14','vit18','vit22','vit26','vit30','vit34'], rotation=45)\n",
    "    ax.flat[i].set_yticks(ticks=np.arange(len(hop_size)), labels=['10','14','18','22','26','30','34'] )\n",
    "    ax.flat[i].set_title(metric)\n",
    "plt.tight_layout()"
   ]
  },
  {
   "cell_type": "code",
   "execution_count": null,
   "metadata": {},
   "outputs": [],
   "source": [
    "for hop in hop_size:\n",
    "    print('noise estimation on prediction of'+' spectrovit_'+str(int(hop))+':',noise_est(ppm_concat,predictions[str(int(hop))]['spectrovit_'+str(int(hop))]),' GABA max:',get_max_gaba(ppm_concat,predictions[str(int(hop))]['spectrovit_'+str(int(hop))]))"
   ]
  },
  {
   "cell_type": "code",
   "execution_count": null,
   "metadata": {},
   "outputs": [],
   "source": [
    "results_for_each_hop = {}\n",
    "for hop in hop_size:\n",
    "    results_for_each_hop[str(int(hop))] = {}\n",
    "    for metric in metrics_names:\n",
    "        results_for_each_hop[str(int(hop))][metric] = [[],[]]\n",
    "        aux_model,aux_value = order_models(list_metric=dict_metrics[str(int(hop))][metric],model_names=name_model)\n",
    "        if metric == 'SNRVal' or metric == 'ShScVal':\n",
    "            results_for_each_hop[str(int(hop))][metric][0] = aux_model[::-1]\n",
    "            results_for_each_hop[str(int(hop))][metric][1] = np.flip(aux_value)\n",
    "        else:\n",
    "            results_for_each_hop[str(int(hop))][metric][0] = aux_model\n",
    "            results_for_each_hop[str(int(hop))][metric][1] = aux_value"
   ]
  },
  {
   "cell_type": "code",
   "execution_count": null,
   "metadata": {},
   "outputs": [],
   "source": [
    "score_model_combined_hops = {}\n",
    "for name in name_model:\n",
    "    score_model_combined_hops[name] = [0,0,0,0,0]\n",
    "for metric_idx, metric in enumerate(metrics_names):\n",
    "    for hop in hop_size:\n",
    "        no_repeat = np.unique(results_for_each_hop[str(int(hop))][metric][1])\n",
    "        max_point = len(no_repeat)\n",
    "        for model_idx in range(len(results_for_each_hop[str(int(hop))][metric][0])):\n",
    "            model_ref = results_for_each_hop[str(int(hop))][metric][0][model_idx]\n",
    "            if model_idx == 0:\n",
    "                add_to_score = max_point\n",
    "            else:\n",
    "                if results_for_each_hop[str(int(hop))][metric][1][model_idx] != results_for_each_hop[str(int(hop))][metric][1][model_idx-1]: \n",
    "                    add_to_score = add_to_score-1                     \n",
    "            score_model_combined_hops[model_ref][metric_idx] = score_model_combined_hops[model_ref][metric_idx] + add_to_score\n",
    "\n",
    "to_print_results = {}\n",
    "for metric_idx, metric in enumerate(metrics_names):\n",
    "    aux = []\n",
    "    for model in name_model:\n",
    "        aux.append(score_model_combined_hops[model][metric_idx])\n",
    "    aux_model, aux_value = order_models(list_metric=aux,model_names=name_model)\n",
    "    to_print_results[metric] = [aux_model[::-1],np.flip(aux_value)]\n",
    "print('|.......LossVal.......|.......MSEVal........|.......SNRVal........|.......FWHMVal.....|.......ShScVal.......|')\n",
    "for line_idx in range(len(name_model)):\n",
    "    str_aux = \"\"\n",
    "    for metric_idx,metric in enumerate(metrics_names):\n",
    "            if len(str(to_print_results[metric][1][line_idx])) == 2:\n",
    "                space = '  | '\n",
    "            else:\n",
    "                space = ' | '\n",
    "            if metric_idx == 0:\n",
    "                str_aux = '| '+to_print_results[metric][0][line_idx]+' | '+str(to_print_results[metric][1][line_idx])+space \n",
    "            else:\n",
    "                str_aux = str_aux + to_print_results[metric][0][line_idx]+' | '+str(to_print_results[metric][1][line_idx])+space\n",
    "    print(str_aux)"
   ]
  },
  {
   "cell_type": "code",
   "execution_count": null,
   "metadata": {},
   "outputs": [],
   "source": [
    "total_score_models = []\n",
    "for model in name_model:\n",
    "    #exclude LossVal\n",
    "    total_score_models.append(np.sum(np.array(score_model_combined_hops[model][1:])))\n",
    "aux_model,aux_value = order_models(list_metric=total_score_models,model_names=name_model)\n",
    "for i in reversed(range(len(aux_model))):\n",
    "    print(aux_model[i]+': '+str(aux_value[i]))"
   ]
  },
  {
   "cell_type": "code",
   "execution_count": null,
   "metadata": {},
   "outputs": [],
   "source": [
    "from matplotlib.gridspec import GridSpec\n",
    "fig = plt.figure(figsize=(16, 4))\n",
    "gs = GridSpec(1, 4, figure=fig)\n",
    "\n",
    "ax1 = fig.add_subplot(gs[0])  # First plot spans columns 0 and 1\n",
    "ax2 = fig.add_subplot(gs[1])   # Second plot spans only the last column\n",
    "ax3 = fig.add_subplot(gs[2:])   # Second plot spans only the last column\n",
    "position_sup = np.abs(ppm_concat[0,:]-3.2).argmin()\n",
    "position_inf = np.abs(ppm_concat[0,:]-2.8).argmin()\n",
    "for i,hop in enumerate(hop_size):\n",
    "    ax1.plot(ppm_concat[0,position_sup:position_inf], predictions[str(int(hop))][name_model[i]][0,position_sup:position_inf], label='vit'+str(int(hop)))\n",
    "ax1.plot(ppm_concat[0,position_sup:position_inf],target_concat[0,position_sup:position_inf],label='real')\n",
    "ax1.set_title('Espectros de GABA \\n Pico de GABA')\n",
    "ax1.set_xlabel('Desloc. Químico (ppm)')\n",
    "ax1.set_ylabel('Espectro Normalizado')\n",
    "ax1.set_xlim(3.2,2.8)\n",
    "ax1.legend(loc='upper right')\n",
    "\n",
    "\n",
    "position_sup = np.abs(ppm_concat[0,:]-3.9).argmin()\n",
    "position_inf = np.abs(ppm_concat[0,:]-3.6).argmin()\n",
    "for i,hop in enumerate(hop_size):\n",
    "    ax2.plot(ppm_concat[0,position_sup:position_inf], predictions[str(int(hop))][name_model[i]][0,position_sup:position_inf], label='vit'+str(int(hop)))\n",
    "ax2.plot(ppm_concat[0,position_sup:position_inf],target_concat[0,position_sup:position_inf],label='real')\n",
    "ax2.set_title('Espectros de GABA \\n Pico de Glx')\n",
    "ax2.set_xlabel('Desloc. Químico (ppm)')\n",
    "ax2.set_ylabel('Espectro Normalizado')\n",
    "ax2.set_xlim(3.9,3.6)\n",
    "ax2.legend(loc='upper right')\n",
    "\n",
    "\n",
    "for i,hop in enumerate(hop_size):\n",
    "    ax3.hist(predictions[str(int(hop))]['spectrovit_'+str(int(hop))].flatten(),bins=100,density=True,alpha=0.35,label='vit'+str(int(hop)))\n",
    "ax3.hist(target_concat.flatten(),bins=100,density=True,alpha=0.35,label='real')\n",
    "ax3.legend(loc='upper right')\n",
    "ax3.set_title('Distribuição Espectros \\n Reconstruídos e Real')\n",
    "ax3.set_yscale('log')\n",
    "ax3.set_xlabel('Valores do Espectro')\n",
    "ax3.set_ylabel('Densidade')\n",
    "\n",
    "plt.tight_layout()\n"
   ]
  },
  {
   "cell_type": "code",
   "execution_count": null,
   "metadata": {},
   "outputs": [],
   "source": [
    "fig,ax = plt.subplots(1,7,figsize=(16,4))\n",
    "for i,hop in enumerate(hop_size):\n",
    "    ax.flat[i].imshow(input_spgrams[str(int(hop))][0,0,:,:],cmap='gray',vmin=-0.04,vmax=0.04,aspect='auto')\n",
    "    ax.flat[i].set_title('hop size: '+str(int(hop)))\n",
    "    ax.flat[i].set_ylim(150,50)\n",
    "    ax.flat[i].set_xlim(0,50)\n",
    "plt.tight_layout()\n",
    "#plt.savefig('compare_models_synthdata_spgrams')\n"
   ]
  },
  {
   "cell_type": "code",
   "execution_count": null,
   "metadata": {},
   "outputs": [],
   "source": [
    "colors = ['tab:blue', 'tab:orange', 'tab:green', 'tab:red', 'tab:purple', \n",
    "          'tab:brown', 'tab:pink', 'tab:gray', 'tab:olive', 'tab:cyan',\n",
    "          'gold', 'darkviolet', 'lime', 'dodgerblue']\n",
    "idx_to_plot=0\n",
    "hop_idx_to_plot = [0,2,4,6]\n",
    "fig,ax = plt.subplots(4,5,figsize=(16,20))\n",
    "for k in range(len(hop_idx_to_plot)):\n",
    "    ax.flat[5*k].imshow(input_spgrams[str(hop_size[hop_idx_to_plot[k]])][idx_to_plot,0,:,:],cmap='gray',vmin=-0.04,vmax=0.04,aspect='auto')\n",
    "    ax.flat[5*k].set_title('hop size: '+str(hop_size[hop_idx_to_plot[k]]))\n",
    "    ax.flat[5*k].set_ylim(150,50)\n",
    "    ax.flat[5*k].set_xlim(0,50)\n",
    "    regions = [[2.8,3.2],[3.6,3.9],[1.98,2.05],[10,10.8]]\n",
    "    for j in range(4):\n",
    "        position_sup = np.abs(ppm_concat[idx_to_plot,:]-regions[j][-1]).argmin()\n",
    "        position_inf = np.abs(ppm_concat[idx_to_plot,:]-regions[j][0]).argmin()\n",
    "        for i in range(len(name_model)):\n",
    "            ax.flat[5*k+(j+1)].plot(ppm_concat[idx_to_plot,position_sup:position_inf], predictions[str(hop_size[hop_idx_to_plot[k]])][name_model[i]][idx_to_plot,position_sup:position_inf], label=name_model[i][-2:],color=colors[i])\n",
    "        if j <2:\n",
    "            ax.flat[5*k+(j+1)].legend(loc='lower right',fontsize=6,ncols=5)\n",
    "        else:\n",
    "            ax.flat[5*k+(j+1)].legend(loc='upper right',fontsize=6,ncols=5)\n",
    "        ax.flat[5*k+(j+1)].plot(ppm_concat[idx_to_plot,position_sup:position_inf],target[idx_to_plot,position_sup:position_inf], color='black')\n",
    "        ax.flat[5*k+(j+1)].set_xlim(regions[j][-1],regions[j][0])\n",
    "plt.tight_layout()\n",
    "#plt.savefig('compare_models_synthdata_reconstructionplots')"
   ]
  },
  {
   "cell_type": "code",
   "execution_count": null,
   "metadata": {},
   "outputs": [],
   "source": [
    "height_diff_per_hop = {'GABA':{},'Glx':{},'NAA':{}}\n",
    "regions = [[2.8,3.2],[3.6,3.9],[1.98,2.05]]\n",
    "for hop in hop_size:\n",
    "    for j in range(3):\n",
    "        height_diff_per_hop[list(height_diff_per_hop.keys())[j]][str(int(hop))] = []\n",
    "        diff_height = {}\n",
    "        for model in name_model:\n",
    "            diff_height[model] = []\n",
    "        for q in range(ppm_concat.shape[0]):\n",
    "            position_sup = np.abs(ppm_concat[q,:]-regions[j][-1]).argmin()\n",
    "            position_inf = np.abs(ppm_concat[q,:]-regions[j][0]).argmin()\n",
    "            tgt_height = np.max(np.abs(target_concat[q,position_sup:position_inf]))\n",
    "            for model in name_model:\n",
    "                diff_height[model].append(np.max(np.abs(predictions[str(int(hop))][model][q,position_sup:position_inf]))-tgt_height)\n",
    "        for model in name_model:\n",
    "            aux = np.mean(np.array(diff_height[model]))\n",
    "            height_diff_per_hop[list(height_diff_per_hop.keys())[j]][str(int(hop))].append(aux)"
   ]
  },
  {
   "cell_type": "code",
   "execution_count": null,
   "metadata": {},
   "outputs": [],
   "source": [
    "fig, ax = plt.subplots(1,3,figsize=(16,4),sharex='col')\n",
    "for idx,key in enumerate(list(height_diff_per_hop.keys())):\n",
    "    for hop in hop_size:\n",
    "        ax.flat[idx].scatter(name_model,height_diff_per_hop[key][str(int(hop))],label='hop:'+str(int(hop)))\n",
    "for i in range(3):\n",
    "    ax.flat[i].plot(name_model,np.zeros(7),color='black',linestyle='dotted')\n",
    "    ax.flat[i].set_xticks(ticks=name_model,labels=name_model,rotation=45,fontsize=7)\n",
    "    ax.flat[i].legend(loc='lower right',fontsize=7)\n",
    "ax.flat[0].set_title('GABA')\n",
    "ax.flat[1].set_title('Glx')\n",
    "ax.flat[2].set_title('NAA')\n",
    "plt.tight_layout()"
   ]
  },
  {
   "cell_type": "code",
   "execution_count": null,
   "metadata": {},
   "outputs": [],
   "source": [
    "print('|..........GABA........|..............Glx.....|..............NAA.....|')\n",
    "for line_idx in range(len(name_model)):\n",
    "    str_aux = \"\"\n",
    "    for idx,key in enumerate(list(height_diff_per_hop.keys())):\n",
    "        counter_pos = 0\n",
    "        counter_neg = 0\n",
    "        for hop in hop_size:\n",
    "            if height_diff_per_hop[key][str(int(hop))][line_idx] >= 0:\n",
    "                counter_pos=counter_pos+1\n",
    "            else:\n",
    "                counter_neg=counter_neg+1\n",
    "        if len(str(counter_neg))==1 and len(str(counter_pos))==1:\n",
    "            space='   |'\n",
    "        elif (len(str(counter_neg))==2 and len(str(counter_pos))==1) or (len(str(counter_neg))==1 and len(str(counter_pos))==2):\n",
    "            space='  |'\n",
    "        else:\n",
    "            space=' |'\n",
    "        if idx == 0:\n",
    "            str_aux = str_aux + '|'+name_model[line_idx]+' | '+str(counter_pos)+'/'+str(counter_neg)+space\n",
    "        else:\n",
    "            str_aux = str_aux + name_model[line_idx]+' | '+str(counter_pos)+'/'+str(counter_neg)+space\n",
    "    print(str_aux)"
   ]
  },
  {
   "cell_type": "code",
   "execution_count": null,
   "metadata": {},
   "outputs": [],
   "source": [
    "print('|..............GABA..........|..............Glx...........|..............NAA...........|')\n",
    "for line_idx in range(len(name_model)):\n",
    "    str_aux = \"\"\n",
    "    for idx,key in enumerate(list(height_diff_per_hop.keys())):\n",
    "        if height_diff_per_hop[key][str(int(hop_size[line_idx]))][line_idx] > 0: \n",
    "            space = '  |'\n",
    "        else:\n",
    "            space = ' |'\n",
    "        if idx == 0:\n",
    "            str_aux = str_aux + '|'+name_model[line_idx]+' | '+'{:.4E}'.format(height_diff_per_hop[key][str(int(hop_size[line_idx]))][line_idx])+space\n",
    "        else:\n",
    "            str_aux = str_aux + name_model[line_idx]+' | '+'{:.4E}'.format(height_diff_per_hop[key][str(int(hop_size[line_idx]))][line_idx])+space\n",
    "    print(str_aux)"
   ]
  },
  {
   "cell_type": "code",
   "execution_count": null,
   "metadata": {},
   "outputs": [],
   "source": [
    "proximity_shape_score = np.empty((len(hop_size),len(hop_size)))\n",
    "proximity_MSE = np.empty((len(hop_size),len(hop_size)))\n",
    "for model_idx,model in enumerate(name_model):\n",
    "    aux_tgt = predictions[str(int(hop_size[model_idx]))][model]\n",
    "    for model_idx_aux,model_aux in enumerate(name_model):\n",
    "        if model_aux != model:\n",
    "            aux = predictions[str(int(hop_size[model_idx]))][model_aux]\n",
    "            aux_ss = []\n",
    "            aux_mse = []\n",
    "            for q in range(ppm_concat.shape[0]):\n",
    "                aux_ss.append(calculate_shape_score(x=aux[q,:], y=aux_tgt[q,:],ppm=ppm_concat[q,:]))\n",
    "                aux_mse.append(calculate_mse(x=aux[q,:], y=aux_tgt[q,:], ppm=ppm_concat[q,:]))\n",
    "            proximity_shape_score[model_idx,model_idx_aux] = np.mean(np.array(aux_ss))\n",
    "            proximity_MSE[model_idx,model_idx_aux] = np.mean(np.array(aux_mse))\n",
    "        else:\n",
    "            proximity_shape_score[model_idx,model_idx_aux] = 1\n",
    "            proximity_MSE[model_idx,model_idx_aux] = 0\n",
    "\n",
    "preds_flatten = {}\n",
    "for j,name in enumerate(name_model):\n",
    "    for i,hop in enumerate(hop_size):\n",
    "        if i == 0:\n",
    "            preds_flatten[name] = predictions[str(int(hop))][name].flatten()\n",
    "        else:\n",
    "            preds_flatten[name] = np.concatenate((preds_flatten[name],predictions[str(int(hop))][name].flatten()))\n",
    "\n",
    "    if j == 0:\n",
    "        data = preds_flatten[name]\n",
    "    else:\n",
    "        data = np.vstack([data,preds_flatten[name]])\n",
    "correlation_matrix = np.corrcoef(data)"
   ]
  },
  {
   "cell_type": "code",
   "execution_count": null,
   "metadata": {},
   "outputs": [],
   "source": [
    "plt.figure(figsize=(8,4))\n",
    "sns.heatmap(proximity_shape_score, annot=True, annot_kws={\"size\": 8}, fmt='.6', cmap='magma', xticklabels=['10', '14', '18', '22','26','30','34'], \n",
    "            yticklabels=['10', '14', '18', '22','26','30','34'])\n",
    "plt.title('Shape Score Between Models Predictions')\n",
    "plt.tight_layout()"
   ]
  },
  {
   "cell_type": "code",
   "execution_count": null,
   "metadata": {},
   "outputs": [],
   "source": [
    "for line_idx in range(proximity_shape_score.shape[0]):\n",
    "    aux_model,aux_value = order_models(list_metric=proximity_shape_score[line_idx,:],model_names=name_model)\n",
    "    print(name_model[line_idx]+': '+(aux_model[::-1])[1]+' | '+(aux_model[::-1])[2])"
   ]
  },
  {
   "cell_type": "code",
   "execution_count": null,
   "metadata": {},
   "outputs": [],
   "source": [
    "plt.figure(figsize=(10,4))\n",
    "sns.heatmap(proximity_MSE, annot=True, annot_kws={\"size\": 8}, fmt='.3E', cmap='magma', xticklabels=['10', '14', '18', '22','26','30','34'], \n",
    "            yticklabels=['10', '14', '18', '22','26','30','34'])\n",
    "plt.title('MSE Between Models Predictions')\n",
    "plt.tight_layout()"
   ]
  },
  {
   "cell_type": "code",
   "execution_count": null,
   "metadata": {},
   "outputs": [],
   "source": [
    "for line_idx in range(proximity_MSE.shape[0]):\n",
    "    aux_model,aux_value = order_models(list_metric=proximity_MSE[line_idx,:],model_names=name_model)\n",
    "    print(name_model[line_idx]+': '+(aux_model)[1]+' | '+(aux_model)[2])"
   ]
  },
  {
   "cell_type": "code",
   "execution_count": null,
   "metadata": {},
   "outputs": [],
   "source": [
    "plt.figure(figsize=(8,4))\n",
    "sns.heatmap(correlation_matrix, annot=True, annot_kws={\"size\": 8}, fmt='.4', cmap='magma', xticklabels=['10', '14', '18', '22','26','30','34'], \n",
    "            yticklabels=['10', '14', '18', '22','26','30','34'])\n",
    "plt.title('Correlation Matrix')\n",
    "plt.tight_layout()"
   ]
  },
  {
   "cell_type": "code",
   "execution_count": null,
   "metadata": {},
   "outputs": [],
   "source": [
    "for line_idx in range(correlation_matrix.shape[0]):\n",
    "    aux_model,aux_value = order_models(list_metric=correlation_matrix[line_idx,:],model_names=name_model)\n",
    "    print(name_model[line_idx]+': '+(aux_model[::-1])[1]+' | '+(aux_model[::-1])[2])"
   ]
  },
  {
   "cell_type": "code",
   "execution_count": null,
   "metadata": {},
   "outputs": [],
   "source": [
    "correlation_matrix_inputs = np.corrcoef(np.array([input_spgrams['10'].flatten(),\n",
    "                                                  input_spgrams['14'].flatten(),\n",
    "                                                  input_spgrams['18'].flatten(),\n",
    "                                                  input_spgrams['22'].flatten(),\n",
    "                                                  input_spgrams['26'].flatten(),\n",
    "                                                  input_spgrams['30'].flatten(),\n",
    "                                                  input_spgrams['34'].flatten()]))"
   ]
  },
  {
   "cell_type": "code",
   "execution_count": null,
   "metadata": {},
   "outputs": [],
   "source": [
    "plt.figure(figsize=(8,4))\n",
    "sns.heatmap(correlation_matrix_inputs, annot=True, annot_kws={\"size\": 8}, fmt='.4', cmap='magma', xticklabels=['10', '14', '18', '22','26','30','34'], \n",
    "            yticklabels=['10', '14', '18', '22','26','30','34'])\n",
    "plt.title('Correlation Matrix')\n",
    "plt.tight_layout()"
   ]
  },
  {
   "cell_type": "code",
   "execution_count": null,
   "metadata": {},
   "outputs": [],
   "source": [
    "for line_idx in range(correlation_matrix_inputs.shape[0]):\n",
    "    aux_model,aux_value = order_models(list_metric=correlation_matrix_inputs[line_idx,:],model_names=name_model)\n",
    "    print(name_model[line_idx]+': '+(aux_model[::-1])[1]+' | '+(aux_model[::-1])[2])"
   ]
  },
  {
   "cell_type": "code",
   "execution_count": null,
   "metadata": {},
   "outputs": [],
   "source": [
    "colors = ['tab:blue', 'tab:orange', 'tab:green', 'tab:red', 'tab:purple', \n",
    "          'tab:brown', 'tab:pink', 'tab:gray', 'tab:olive', 'tab:cyan',\n",
    "          'gold', 'darkviolet', 'lime', 'dodgerblue']\n",
    "fig,ax = plt.subplots(2,2,figsize=(14,10))\n",
    "for j,metric in enumerate(metrics_names):\n",
    "    for i,hop in enumerate(hop_size):\n",
    "        ax.flat[j].plot(name_model, dict_metrics[str(int(hop))][metric],marker='o',label=str(int(hop)), color=colors[i])\n",
    "    if j<2:\n",
    "        ax.flat[j].legend(loc='upper right',fontsize=8, ncols=5)\n",
    "    else:\n",
    "        ax.flat[j].legend(loc='lower right',fontsize=8, ncols=5)\n",
    "    ax.flat[j].set_xticks(ticks=name_model,labels=name_model,rotation=45,fontsize=7)\n",
    "    ax.flat[j].set_xlabel('models')\n",
    "    if j == 0: \n",
    "        ax.flat[j].set_title('Loss Function: input hop size x model performance')\n",
    "    elif j == 1: \n",
    "        ax.flat[j].set_title('MSE Function: input hop size x model performance')\n",
    "    elif j == 2: \n",
    "        ax.flat[j].set_title('SNR Function: input hop size x model performance')\n",
    "    else:\n",
    "        ax.flat[j].set_title('Shape Score: input hop size x model performance')\n",
    "plt.tight_layout()\n",
    "#plt.savefig('compare_models_synthdata_inputhop_x_model')"
   ]
  },
  {
   "cell_type": "code",
   "execution_count": null,
   "metadata": {},
   "outputs": [],
   "source": [
    "colors = ['tab:blue', 'tab:orange', 'tab:green', 'tab:red', 'tab:purple', \n",
    "          'tab:brown', 'tab:pink', 'tab:gray', 'tab:olive', 'tab:cyan',\n",
    "          'gold', 'darkviolet', 'lime', 'dodgerblue']\n",
    "fig,ax = plt.subplots(2,2,figsize=(14,10))\n",
    "for j,metric in enumerate(metrics_names):\n",
    "    for i,model in enumerate(name_model):\n",
    "        aux = []\n",
    "        for hop in hop_size:\n",
    "            aux.append(dict_metrics[str(int(hop))][metric][i])\n",
    "        ax.flat[j].plot(hop_size,aux,label='Vit'+model[11:], color=colors[i])\n",
    "    if j<2:\n",
    "        ax.flat[j].legend(loc='upper right',fontsize=8, ncols=5)\n",
    "    else:\n",
    "        ax.flat[j].legend(loc='lower right',fontsize=8, ncols=5)\n",
    "    ax.flat[j].set_xlabel('input hop size')\n",
    "    if j == 0: \n",
    "        ax.flat[j].set_title('Loss Function: model performance x input hop size')\n",
    "    elif j == 1: \n",
    "        ax.flat[j].set_title('MSE Function: model performance x input hop size')\n",
    "    elif j == 2: \n",
    "        ax.flat[j].set_title('SNR Function: model performance x input hop size')\n",
    "    else:\n",
    "        ax.flat[j].set_title('Shape Score: model performance x input hop size')\n",
    "plt.tight_layout()\n",
    "#plt.savefig('compare_models_synthdata_model_x_inputhop')"
   ]
  }
 ],
 "metadata": {
  "kernelspec": {
   "display_name": "spectvit",
   "language": "python",
   "name": "python3"
  },
  "language_info": {
   "codemirror_mode": {
    "name": "ipython",
    "version": 3
   },
   "file_extension": ".py",
   "mimetype": "text/x-python",
   "name": "python",
   "nbconvert_exporter": "python",
   "pygments_lexer": "ipython3",
   "version": "3.10.12"
  }
 },
 "nbformat": 4,
 "nbformat_minor": 2
}
