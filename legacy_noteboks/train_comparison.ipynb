{
 "cells": [
  {
   "cell_type": "code",
   "execution_count": null,
   "metadata": {},
   "outputs": [],
   "source": [
    "import numpy as np\n",
    "import matplotlib.pyplot as plt\n",
    "import csv"
   ]
  },
  {
   "cell_type": "code",
   "execution_count": null,
   "metadata": {},
   "outputs": [],
   "source": [
    "from utils import retrieve_metrics_from_csv"
   ]
  },
  {
   "cell_type": "code",
   "execution_count": null,
   "metadata": {},
   "outputs": [],
   "source": [
    "metrics_hop_10 = retrieve_metrics_from_csv('../model_hop_10_realdata_noise/losses_and_metrics.csv')\n",
    "metrics_hop_14 = retrieve_metrics_from_csv('../model_hop_14_realdata_noise/losses_and_metrics.csv')\n",
    "metrics_hop_18 = retrieve_metrics_from_csv('../model_hop_18_realdata_noise/losses_and_metrics.csv')\n",
    "metrics_hop_22 = retrieve_metrics_from_csv('../model_hop_22_realdata_noise/losses_and_metrics.csv')\n",
    "metrics_hop_26 = retrieve_metrics_from_csv('../model_hop_26_realdata_noise/losses_and_metrics.csv')\n",
    "metrics_hop_30 = retrieve_metrics_from_csv('../model_hop_30_realdata_noise/losses_and_metrics.csv')\n",
    "metrics_hop_34 = retrieve_metrics_from_csv('../model_hop_34_realdata_noise/losses_and_metrics.csv')"
   ]
  },
  {
   "cell_type": "code",
   "execution_count": null,
   "metadata": {},
   "outputs": [],
   "source": [
    "metrics_assemble = (metrics_hop_10,metrics_hop_14,metrics_hop_18,\n",
    "                    metrics_hop_22,metrics_hop_26,metrics_hop_30,\n",
    "                    metrics_hop_34)\n",
    "hop_assemble = [10,14,18,22,26,30,34]"
   ]
  },
  {
   "cell_type": "code",
   "execution_count": null,
   "metadata": {},
   "outputs": [],
   "source": [
    "colors = ['tab:blue', 'tab:orange', 'tab:green', 'tab:red', 'tab:purple', \n",
    "          'tab:brown', 'tab:pink', 'tab:gray', 'tab:olive', 'tab:cyan',\n",
    "          'gold', 'darkviolet', 'lime', 'dodgerblue']\n",
    "fig,ax = plt.subplots(1,2,figsize=(14,4))\n",
    "\n",
    "for idx, metric in enumerate(metrics_assemble):\n",
    "    ax[0].plot(np.arange(0,30),metric['LossTrain'],label='hop = '+str(hop_assemble[idx]),color=colors[idx])\n",
    "    ax[1].plot(np.arange(0,30),metric['LossVal'],label='hop = '+str(hop_assemble[idx]),color=colors[idx])\n",
    "\n",
    "\n",
    "ax[0].set_xlabel('epochs')\n",
    "ax[0].set_ylabel('loss')\n",
    "ax[0].set_title('Train Loss')\n",
    "ax[0].legend(loc='upper right',fontsize=8)\n",
    "ax[1].set_xlabel('epochs')\n",
    "ax[1].set_ylabel('loss')\n",
    "ax[1].set_title('Validation Loss')\n",
    "ax[1].legend(loc='upper right',ncols=4,fontsize=8)\n",
    "#plt.savefig('comparacao_loss')"
   ]
  },
  {
   "cell_type": "code",
   "execution_count": null,
   "metadata": {},
   "outputs": [],
   "source": [
    "colors = ['tab:blue', 'tab:orange', 'tab:green', 'tab:red', 'tab:purple', \n",
    "          'tab:brown', 'tab:pink', 'tab:gray', 'tab:olive', 'tab:cyan',\n",
    "          'gold', 'darkviolet', 'lime', 'dodgerblue']\n",
    "fig,ax = plt.subplots(1,4,figsize=(20,4))\n",
    "\n",
    "for idx,metric in enumerate(metrics_assemble):\n",
    "    ax[0].plot(np.arange(0,30),metric['FWHMVal'],label='hop = '+str(hop_assemble[idx]),color=colors[idx])\n",
    "    ax[1].plot(np.arange(0,30),metric['ShScVal'],label='hop = '+str(hop_assemble[idx]),color=colors[idx])\n",
    "    ax[2].plot(np.arange(0,30),metric['MSEVal'],label='hop = '+str(hop_assemble[idx]),color=colors[idx])\n",
    "    ax[3].plot(np.arange(0,30),metric['SNRVal'],label='hop = '+str(hop_assemble[idx]),color=colors[idx])\n",
    "\n",
    "\n",
    "ax.flat[0].set_title('linewidth')\n",
    "ax.flat[0].legend(loc='upper right',fontsize=8)\n",
    "ax.flat[1].set_title('shape score')\n",
    "ax.flat[1].legend(loc='lower right',fontsize=8)\n",
    "ax.flat[2].set_title('mse')\n",
    "ax.flat[2].legend(loc='upper right',fontsize=8)\n",
    "ax.flat[3].set_title('snr')\n",
    "ax.flat[3].legend(loc='upper left',fontsize=8)\n",
    "\n",
    "for i in range(4):\n",
    "    ax.flat[i].set_xlabel('epochs')\n",
    "#plt.savefig('comparacao_metricas')"
   ]
  }
 ],
 "metadata": {
  "kernelspec": {
   "display_name": "spectvit",
   "language": "python",
   "name": "python3"
  },
  "language_info": {
   "codemirror_mode": {
    "name": "ipython",
    "version": 3
   },
   "file_extension": ".py",
   "mimetype": "text/x-python",
   "name": "python",
   "nbconvert_exporter": "python",
   "pygments_lexer": "ipython3",
   "version": "3.10.12"
  }
 },
 "nbformat": 4,
 "nbformat_minor": 2
}
