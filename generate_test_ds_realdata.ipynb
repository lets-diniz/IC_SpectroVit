{
 "cells": [
  {
   "cell_type": "code",
   "execution_count": 1,
   "metadata": {},
   "outputs": [],
   "source": [
    "import numpy as np\n",
    "import matplotlib.pyplot as plt\n",
    "import random\n",
    "import os\n",
    "import h5py"
   ]
  },
  {
   "cell_type": "code",
   "execution_count": 2,
   "metadata": {},
   "outputs": [],
   "source": [
    "from data_augmentation import TransientMaker"
   ]
  },
  {
   "cell_type": "code",
   "execution_count": 3,
   "metadata": {},
   "outputs": [],
   "source": [
    "###Definition:\n",
    "path_to_original_data = '../track_02_training_data.h5'\n",
    "start=9\n",
    "stop=12\n",
    "qntty_to_repeat = 50\n",
    "name_dataset_to_be_created = '../dataset_test_realdata_augmented_from_RD_9_to_12.h5'"
   ]
  },
  {
   "cell_type": "code",
   "execution_count": 4,
   "metadata": {},
   "outputs": [],
   "source": [
    "def get_random_transients():\n",
    "        idx_transient_samples = np.random.randint(low=0,high=160,size=40)\n",
    "        return idx_transient_samples\n",
    "\n",
    "corrupted_fids = np.empty(((stop-start)*qntty_to_repeat,2048,2,40),dtype='complex128')\n",
    "ppm_of_corrupted_fids = np.empty(((stop-start)*qntty_to_repeat,2048))\n",
    "t_of_corrupted_fids = np.empty(((stop-start)*qntty_to_repeat,2048))\n",
    "target_of_corrupted_fids = np.empty(((stop-start)*qntty_to_repeat,2048))\n",
    "\n",
    "counter=0\n",
    "for j in range(qntty_to_repeat):\n",
    "    for i in range(start,stop):\n",
    "        with h5py.File(path_to_original_data) as hf:\n",
    "            fid = hf['transient_fids'][()][i:i+1]\n",
    "            ppm = hf[\"ppm\"][()][i:i+1]\n",
    "            t = hf[\"t\"][()][i:i+1]\n",
    "            target = hf['target_spectra'][()][i:i+1]\n",
    "    \n",
    "        idx_transient_samples = get_random_transients()\n",
    "        for k in range(len(idx_transient_samples)):\n",
    "            corrupted_fids[counter,:,:,k] = fid[0,:,:,idx_transient_samples[k]]\n",
    "        ppm_of_corrupted_fids[counter,:]=ppm[0,:]\n",
    "        t_of_corrupted_fids[counter,:]=t[0,:]\n",
    "        target_of_corrupted_fids[counter,:]=target[0,:]\n",
    "        counter=counter+1\n"
   ]
  },
  {
   "cell_type": "code",
   "execution_count": 5,
   "metadata": {},
   "outputs": [],
   "source": [
    "with h5py.File(name_dataset_to_be_created, 'w') as h5f:\n",
    "    # Save inputs, targets, and labels into the HDF5 file\n",
    "    h5f.create_dataset('transient_fids', data=corrupted_fids)\n",
    "    h5f.create_dataset('ppm', data=ppm_of_corrupted_fids)\n",
    "    h5f.create_dataset('t', data=t_of_corrupted_fids)\n",
    "    h5f.create_dataset('target_spectra', data=target_of_corrupted_fids)"
   ]
  },
  {
   "cell_type": "code",
   "execution_count": 6,
   "metadata": {},
   "outputs": [
    {
     "name": "stdout",
     "output_type": "stream",
     "text": [
      "<KeysViewHDF5 ['ppm', 't', 'target_spectra', 'transient_fids']>\n",
      "(150, 2048, 2, 40)\n",
      "(150, 2048)\n",
      "(150, 2048)\n",
      "(150, 2048)\n"
     ]
    }
   ],
   "source": [
    "with h5py.File(name_dataset_to_be_created, 'r') as h5f:\n",
    "    print(h5f.keys())\n",
    "    print(h5f['transient_fids'][()].shape)\n",
    "    print(h5f['ppm'][()].shape)\n",
    "    print(h5f['target_spectra'][()].shape)\n",
    "    print(h5f['t'][()].shape)"
   ]
  }
 ],
 "metadata": {
  "kernelspec": {
   "display_name": "spectvit",
   "language": "python",
   "name": "python3"
  },
  "language_info": {
   "codemirror_mode": {
    "name": "ipython",
    "version": 3
   },
   "file_extension": ".py",
   "mimetype": "text/x-python",
   "name": "python",
   "nbconvert_exporter": "python",
   "pygments_lexer": "ipython3",
   "version": "3.10.12"
  }
 },
 "nbformat": 4,
 "nbformat_minor": 4
}
